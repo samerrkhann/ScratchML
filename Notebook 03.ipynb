{
 "cells": [
  {
   "cell_type": "code",
   "execution_count": 1,
   "id": "d037dbd7",
   "metadata": {},
   "outputs": [],
   "source": [
    "import numpy as np\n",
    "import pandas as pd\n",
    "import matplotlib.pyplot as plt"
   ]
  },
  {
   "cell_type": "markdown",
   "id": "f53027cc",
   "metadata": {},
   "source": [
    "## 1. Linear and Logistic Regression"
   ]
  },
  {
   "cell_type": "markdown",
   "id": "0f81ef3f",
   "metadata": {},
   "source": [
    "### A. Optimization Routines and Loss Functions"
   ]
  },
  {
   "cell_type": "code",
   "execution_count": 2,
   "id": "4814f3e2",
   "metadata": {},
   "outputs": [],
   "source": [
    "class Functions:\n",
    "    \n",
    "    ## function for random sampling of data\n",
    "    def random_sampler(self, perc=0.1):\n",
    "        prop = int(len(self.X)*perc) #proportion of the data to be used for each iteration, here we have set it to 10% of the data\n",
    "        ind = np.random.choice(range(len(self.X)), prop, replace=False)\n",
    "        test_ind = list(set(range(len(self.X))) - set(ind)) #for using the rest sample as test set\n",
    "        return self.X[ind],self.y[ind], self.X[test_ind], self.y[test_ind]\n",
    "    \n",
    "    ## funtion for normalizing the features\n",
    "    def normalize_features(self,X,append=True):\n",
    "        X = (X - np.mean(X, 0)) / np.std(X, 0) #normalize the features\n",
    "        if append:\n",
    "            X = np.append(np.ones(X.shape[0]).reshape(-1,1),X,1) #append column of ones for intercept\n",
    "        return X\n",
    "    \n",
    "    ## for calculating the metrics\n",
    "    def calculate_metrics(self, y, preds):\n",
    "        \n",
    "        ## accuracy is given by\n",
    "        accuracy = 1-np.sum(np.abs(np.subtract(preds,y)))/len(preds)\n",
    "        \n",
    "        ## calculate the True Positives TP\n",
    "        Tp = np.sum((y == True) & (preds == True))\n",
    "        \n",
    "        ## calculate the True Negatives TN\n",
    "        Tn = np.sum((y == False) & (preds == False))\n",
    "        \n",
    "        ## calculate the False Positives FP\n",
    "        Fp = np.sum((y == False) & (preds == True))\n",
    "        \n",
    "        ## calculate the False Negatives FN\n",
    "        Fn = np.sum((y == True) & (preds == False))\n",
    "        \n",
    "        ## calculate the Precision P\n",
    "        P = Tp/(Tp+Fp)\n",
    "        \n",
    "        ## calculate the Recall\n",
    "        R = Tp/(Tp+Fn)\n",
    "        \n",
    "        ## calculate the F1 score\n",
    "        F = 2/(1/P+1/R)\n",
    "        \n",
    "        ## making confusion matrix\n",
    "        c = np.ones(4)\n",
    "        c[0],c[1],c[2],c[3] = Tn, Fp, Fn, Tp\n",
    "        c = c.reshape(2,2)\n",
    "        \n",
    "        return accuracy,P,R,F,c\n",
    "    "
   ]
  },
  {
   "cell_type": "code",
   "execution_count": 3,
   "id": "273b2aea",
   "metadata": {},
   "outputs": [],
   "source": [
    "class Optimization(Functions):\n",
    "    \n",
    "    ## initializing class\n",
    "    def __init__(self, X, y, loss):\n",
    "        self.X = X\n",
    "        self.y = y\n",
    "        self.loss = loss\n",
    "    \n",
    "    ## stochastic gradient descent function\n",
    "    def SGD(self, B, max_iter=1000,tolerance=1e-6,lr=0.001):\n",
    "        #function for updating parameters using SGD\n",
    "        loss_list = []\n",
    "        test_loss_list=[]\n",
    "        for it in range(max_iter):\n",
    "            #sample a random x and y batch for training and validation\n",
    "            x, y, x_test,y_test = self.random_sampler()\n",
    "            \n",
    "            #calculating the loss\n",
    "            curr_loss, derv_loss, _ = self.loss(self, x, y, B)\n",
    "            loss_list.append(curr_loss)\n",
    "            \n",
    "            curr_loss_test, _, _ = self.loss(self, x_test, y_test, B)\n",
    "            test_loss_list.append(curr_loss_test)\n",
    "            \n",
    "            #update the betas\n",
    "            e = lr*derv_loss\n",
    "            B = B - e\n",
    "            \n",
    "            #stop loop once updation becomes insignificant\n",
    "            if np.all(np.abs(e) < tolerance):\n",
    "                break\n",
    "        return B,loss_list,test_loss_list\n",
    "    \n",
    "    ## Newton Method for Optimization\n",
    "    def newton_optimization(self, B, max_iter=100, tolerance = 1e-4, lr=0.001):\n",
    "        ## function for updating parameters using newton's method\n",
    "        loss_list = []\n",
    "        test_loss_list=[]\n",
    "        x, y, x_test, y_test = self.random_sampler(perc = 0.80) # use 80-20 in the training too\n",
    "        \n",
    "        for it in range(max_iter):\n",
    "            #calculate training loss\n",
    "            curr_loss, gradient, hessian = self.loss(self, x, y, B)\n",
    "            loss_list.append(curr_loss)\n",
    "            \n",
    "            #calculate test loss\n",
    "            curr_loss_test, _, _ = self.loss(self, x_test, y_test, B)\n",
    "            test_loss_list.append(curr_loss_test)\n",
    "            \n",
    "            ## newton method\n",
    "            e = -np.linalg.solve(hessian,gradient)\n",
    "            B = B + lr*e\n",
    "            \n",
    "            #stop loop once updation becomes insignificant\n",
    "            if np.all(np.abs(e) < tolerance):\n",
    "                break\n",
    "                \n",
    "        return B,loss_list,test_loss_list"
   ]
  },
  {
   "cell_type": "code",
   "execution_count": 4,
   "id": "2403ed1f",
   "metadata": {},
   "outputs": [],
   "source": [
    "class Loss():\n",
    "    ## mean square error loss which returns loss, first derivative and hessian\n",
    "    def mean_square_loss(self, X, y, betas):\n",
    "        N = len(X)\n",
    "        pred = np.dot(X,betas)\n",
    "        return (np.square(y-pred)).mean(), (-2.0 /N) * X.T.dot(y - X.dot(betas)), 1/N * np.matmul(X.T,X)\n",
    "    \n",
    "    ## cross entropy loss\n",
    "    def cross_entropy_loss(self, X, y, B):\n",
    "        N = len(X)\n",
    "        p = 1./(1+np.exp(-np.dot(X,B)))\n",
    "        W = np.diag((p*(1-p)).reshape(-1))\n",
    "        return (-1/N * (np.dot(y.T,np.log(p))+np.dot(np.transpose(1-y),np.log(1-p))))[0][0], -np.dot(X.T,(y-p)), X.T@W@X"
   ]
  },
  {
   "cell_type": "code",
   "execution_count": 5,
   "id": "e0611e20",
   "metadata": {},
   "outputs": [],
   "source": [
    "class LinearRegression():\n",
    "    #initialization of class\n",
    "    def __init__ (self, X, y):\n",
    "        self.X = X\n",
    "        self.y = y.reshape(-1,1)\n",
    "    \n",
    "    ## function for fitting the model    \n",
    "    def fit(self, max_iter=100, tolerance=1e-6, lr=0.1):\n",
    "        \n",
    "        # generate a random Beta matrix for 1st iteration\n",
    "        B = np.zeros((self.X.shape[1],1))\n",
    "\n",
    "        #define optimizer\n",
    "        optim = Optimization(self.X, self.y, Loss.mean_square_loss)\n",
    "        B, loss, test_loss = optim.SGD(B, max_iter, tolerance, lr)\n",
    "        self.B = B\n",
    "        return B,loss,test_loss\n",
    "        \n",
    "    def predict(self,X):\n",
    "        return np.matmul(X,self.B)"
   ]
  },
  {
   "cell_type": "markdown",
   "id": "e852d4c2",
   "metadata": {},
   "source": [
    "## B. Fitting a Linear Regression Model using a Mean Square Loss and SGD"
   ]
  },
  {
   "cell_type": "code",
   "execution_count": 6,
   "id": "0144bef7",
   "metadata": {},
   "outputs": [],
   "source": [
    "reg_data = pd.read_csv('regression.csv')\n",
    "X,y = reg_data.iloc[:,:-1].values,reg_data.iloc[:,-1].values"
   ]
  },
  {
   "cell_type": "code",
   "execution_count": 7,
   "id": "a3bfc0cf",
   "metadata": {},
   "outputs": [],
   "source": [
    "## let's split the data into a training and testing set\n",
    "from sklearn.model_selection import train_test_split\n",
    "X_train, X_test, y_train, y_test = train_test_split(X, y, test_size=0.2, random_state=42)"
   ]
  },
  {
   "cell_type": "code",
   "execution_count": 8,
   "id": "877d3857",
   "metadata": {},
   "outputs": [],
   "source": [
    "X_train_normalized = Functions().normalize_features(X_train)\n",
    "X_test_normalized = Functions().normalize_features(X_test)\n",
    "lin_reg_model=LinearRegression(X_train_normalized,y_train)"
   ]
  },
  {
   "cell_type": "code",
   "execution_count": 9,
   "id": "5855fe88",
   "metadata": {},
   "outputs": [],
   "source": [
    "lin_reg_model_params,train_loss,test_loss = lin_reg_model.fit()"
   ]
  },
  {
   "cell_type": "markdown",
   "id": "e23f2554",
   "metadata": {},
   "source": [
    "Let's plot the training and testing loss"
   ]
  },
  {
   "cell_type": "code",
   "execution_count": 10,
   "id": "a2a8bca0",
   "metadata": {},
   "outputs": [
    {
     "data": {
      "image/png": "[encoded data removed]",
      "text/plain": [
       "<Figure size 864x432 with 1 Axes>"
      ]
     },
     "metadata": {
      "needs_background": "light"
     },
     "output_type": "display_data"
    }
   ],
   "source": [
    "plt.figure(figsize=(12,6))\n",
    "plt.plot(np.arange(len(train_loss)),train_loss,color='red',label='Training Loss')\n",
    "plt.plot(np.arange(len(test_loss)),test_loss,color='orange',label='Testing Loss')\n",
    "plt.ylim([0,2]);\n",
    "plt.title('Trajectory of Training and Testing Loss of Linear Regression');\n",
    "plt.xlabel('Number of Iterations');\n",
    "plt.ylabel('MSE Loss');\n",
    "plt.legend();\n",
    "plt.grid('on');"
   ]
  },
  {
   "cell_type": "markdown",
   "id": "fae81fa3",
   "metadata": {},
   "source": [
    "let's compare our model with sklearn implementation of Linear Regression"
   ]
  },
  {
   "cell_type": "code",
   "execution_count": 11,
   "id": "da3fd89e",
   "metadata": {},
   "outputs": [
    {
     "data": {
      "text/html": [
       "<style>#sk-container-id-1 {color: black;background-color: white;}#sk-container-id-1 pre{padding: 0;}#sk-container-id-1 div.sk-toggleable {background-color: white;}#sk-container-id-1 label.sk-toggleable__label {cursor: pointer;display: block;width: 100%;margin-bottom: 0;padding: 0.3em;box-sizing: border-box;text-align: center;}#sk-container-id-1 label.sk-toggleable__label-arrow:before {content: \"▸\";float: left;margin-right: 0.25em;color: #696969;}#sk-container-id-1 label.sk-toggleable__label-arrow:hover:before {color: black;}#sk-container-id-1 div.sk-estimator:hover label.sk-toggleable__label-arrow:before {color: black;}#sk-container-id-1 div.sk-toggleable__content {max-height: 0;max-width: 0;overflow: hidden;text-align: left;background-color: #f0f8ff;}#sk-container-id-1 div.sk-toggleable__content pre {margin: 0.2em;color: black;border-radius: 0.25em;background-color: #f0f8ff;}#sk-container-id-1 input.sk-toggleable__control:checked~div.sk-toggleable__content {max-height: 200px;max-width: 100%;overflow: auto;}#sk-container-id-1 input.sk-toggleable__control:checked~label.sk-toggleable__label-arrow:before {content: \"▾\";}#sk-container-id-1 div.sk-estimator input.sk-toggleable__control:checked~label.sk-toggleable__label {background-color: #d4ebff;}#sk-container-id-1 div.sk-label input.sk-toggleable__control:checked~label.sk-toggleable__label {background-color: #d4ebff;}#sk-container-id-1 input.sk-hidden--visually {border: 0;clip: rect(1px 1px 1px 1px);clip: rect(1px, 1px, 1px, 1px);height: 1px;margin: -1px;overflow: hidden;padding: 0;position: absolute;width: 1px;}#sk-container-id-1 div.sk-estimator {font-family: monospace;background-color: #f0f8ff;border: 1px dotted black;border-radius: 0.25em;box-sizing: border-box;margin-bottom: 0.5em;}#sk-container-id-1 div.sk-estimator:hover {background-color: #d4ebff;}#sk-container-id-1 div.sk-parallel-item::after {content: \"\";width: 100%;border-bottom: 1px solid gray;flex-grow: 1;}#sk-container-id-1 div.sk-label:hover label.sk-toggleable__label {background-color: #d4ebff;}#sk-container-id-1 div.sk-serial::before {content: \"\";position: absolute;border-left: 1px solid gray;box-sizing: border-box;top: 0;bottom: 0;left: 50%;z-index: 0;}#sk-container-id-1 div.sk-serial {display: flex;flex-direction: column;align-items: center;background-color: white;padding-right: 0.2em;padding-left: 0.2em;position: relative;}#sk-container-id-1 div.sk-item {position: relative;z-index: 1;}#sk-container-id-1 div.sk-parallel {display: flex;align-items: stretch;justify-content: center;background-color: white;position: relative;}#sk-container-id-1 div.sk-item::before, #sk-container-id-1 div.sk-parallel-item::before {content: \"\";position: absolute;border-left: 1px solid gray;box-sizing: border-box;top: 0;bottom: 0;left: 50%;z-index: -1;}#sk-container-id-1 div.sk-parallel-item {display: flex;flex-direction: column;z-index: 1;position: relative;background-color: white;}#sk-container-id-1 div.sk-parallel-item:first-child::after {align-self: flex-end;width: 50%;}#sk-container-id-1 div.sk-parallel-item:last-child::after {align-self: flex-start;width: 50%;}#sk-container-id-1 div.sk-parallel-item:only-child::after {width: 0;}#sk-container-id-1 div.sk-dashed-wrapped {border: 1px dashed gray;margin: 0 0.4em 0.5em 0.4em;box-sizing: border-box;padding-bottom: 0.4em;background-color: white;}#sk-container-id-1 div.sk-label label {font-family: monospace;font-weight: bold;display: inline-block;line-height: 1.2em;}#sk-container-id-1 div.sk-label-container {text-align: center;}#sk-container-id-1 div.sk-container {/* jupyter's `normalize.less` sets `[hidden] { display: none; }` but bootstrap.min.css set `[hidden] { display: none !important; }` so we also need the `!important` here to be able to override the default hidden behavior on the sphinx rendered scikit-learn.org. See: https://github.com/scikit-learn/scikit-learn/issues/21755 */display: inline-block !important;position: relative;}#sk-container-id-1 div.sk-text-repr-fallback {display: none;}</style><div id=\"sk-container-id-1\" class=\"sk-top-container\"><div class=\"sk-text-repr-fallback\"><pre>LinearRegression()</pre><b>In a Jupyter environment, please rerun this cell to show the HTML representation or trust the notebook. <br />On GitHub, the HTML representation is unable to render, please try loading this page with nbviewer.org.</b></div><div class=\"sk-container\" hidden><div class=\"sk-item\"><div class=\"sk-estimator sk-toggleable\"><input class=\"sk-toggleable__control sk-hidden--visually\" id=\"sk-estimator-id-1\" type=\"checkbox\" checked><label for=\"sk-estimator-id-1\" class=\"sk-toggleable__label sk-toggleable__label-arrow\">LinearRegression</label><div class=\"sk-toggleable__content\"><pre>LinearRegression()</pre></div></div></div></div></div>"
      ],
      "text/plain": [
       "LinearRegression()"
      ]
     },
     "execution_count": 11,
     "metadata": {},
     "output_type": "execute_result"
    }
   ],
   "source": [
    "from sklearn.linear_model import LinearRegression\n",
    "sklearn_reg = LinearRegression()\n",
    "sklearn_reg.fit(X_train_normalized[:,1:],y_train)"
   ]
  },
  {
   "cell_type": "code",
   "execution_count": 12,
   "id": "4852f136",
   "metadata": {},
   "outputs": [],
   "source": [
    "#sklearn returns coef and intercept differently let's append them\n",
    "sklearn_reg_params = np.append(sklearn_reg.intercept_,sklearn_reg.coef_)"
   ]
  },
  {
   "cell_type": "markdown",
   "id": "68c7ff76",
   "metadata": {},
   "source": [
    "Let's compare the mean_squared_error obtained on test set in case of both sklearn linear regression and our model"
   ]
  },
  {
   "cell_type": "code",
   "execution_count": 13,
   "id": "07a6621d",
   "metadata": {},
   "outputs": [
    {
     "name": "stdout",
     "output_type": "stream",
     "text": [
      "The loss of our implementation is: 0.9093510305105057\n",
      "The loss of Sklearn Implementation is 0.4241911573139901\n"
     ]
    }
   ],
   "source": [
    "lin_reg_preds = lin_reg_model.predict(X_test_normalized)\n",
    "sklearn_preds = sklearn_reg.predict(X_test_normalized[:,1:])\n",
    "lin_reg_loss, _, _ = Loss().mean_square_loss(X_train_normalized, y_train, lin_reg_model_params)\n",
    "sklearn_reg_loss, _, _ = Loss().mean_square_loss(X_train_normalized, y_train, sklearn_reg_params)\n",
    "print('The loss of our implementation is:',lin_reg_loss)\n",
    "print('The loss of Sklearn Implementation is',sklearn_reg_loss)"
   ]
  },
  {
   "cell_type": "markdown",
   "id": "af0988bb",
   "metadata": {},
   "source": [
    "**Question:** It is well known that deep neural networks do not function if the model parameters are initialised to\n",
    "zero. Why is it so?\n",
    "\n",
    "**Answer:**\n",
    "If the weights of a NN is initialized with zero or in fact with any constant value, all the neurons will learn the same features. This will happen because the derivative will remain same for all the weights and there won't be any symmetry breaking.\n",
    "\n",
    "**Question:**\n",
    "Does this issue also arise while optimising the loss function for Linear or Logistic Regression?\n",
    "\n",
    "**Answer:**\n",
    "The loss function for the case of Linear and Logisitc Regression is convex, and for a convex function it does not matter from where we initialize the optimization, it has one global minima which is generally guarented to reached."
   ]
  },
  {
   "cell_type": "markdown",
   "id": "827900eb",
   "metadata": {},
   "source": [
    "## C. Logistic Regression"
   ]
  },
  {
   "cell_type": "code",
   "execution_count": 14,
   "id": "b70ed594",
   "metadata": {},
   "outputs": [],
   "source": [
    "class LogisticRegression():\n",
    "    def __init__(self, X, y):\n",
    "        self.X = X\n",
    "        self.y = y.values.reshape(-1,1)\n",
    "        \n",
    "    def fit(self, max_iter= 100, tolerance=1e-6, lr=0.001):         \n",
    "        # generate a random Beta matrix for 1st iteration\n",
    "        B = np.zeros((self.X.shape[1],1)) \n",
    "        \n",
    "        ## define optimizer\n",
    "        optim = Optimization(self.X, self.y, Loss.cross_entropy_loss)\n",
    "        B, loss, test_loss = optim.newton_optimization(B, max_iter, tolerance, lr)\n",
    "        self.B = B\n",
    "        return B,loss,test_loss\n",
    "    \n",
    "    def predict(self,X):\n",
    "        scores = np.matmul(X,self.B)\n",
    "        return 1./(1+np.exp(-scores))"
   ]
  },
  {
   "cell_type": "code",
   "execution_count": 15,
   "id": "caeed9a2",
   "metadata": {},
   "outputs": [],
   "source": [
    "## reading the data\n",
    "log_reg_data = pd.read_csv('logistic.csv')"
   ]
  },
  {
   "cell_type": "markdown",
   "id": "fa51f143",
   "metadata": {},
   "source": [
    "Let's replace the categorical variable with M being 1 and B being 0"
   ]
  },
  {
   "cell_type": "code",
   "execution_count": 16,
   "id": "91ae26e8",
   "metadata": {},
   "outputs": [],
   "source": [
    "log_reg_data['Y'] = log_reg_data['Y'].replace({'M':1,'B':0})"
   ]
  },
  {
   "cell_type": "code",
   "execution_count": 17,
   "id": "1bbf985f",
   "metadata": {},
   "outputs": [],
   "source": [
    "#splititng data into x and y\n",
    "X = log_reg_data.iloc[:,1:]\n",
    "y = log_reg_data.iloc[:,0]\n",
    "## let's split the data into a training and testing set\n",
    "from sklearn.model_selection import train_test_split\n",
    "X_train, X_test, y_train, y_test = train_test_split(X, y, test_size=0.2, random_state=42)"
   ]
  },
  {
   "cell_type": "code",
   "execution_count": 18,
   "id": "19ddf2be",
   "metadata": {},
   "outputs": [],
   "source": [
    "X_train_normalized = Functions().normalize_features(X_train)\n",
    "X_test_normalized = Functions().normalize_features(X_test)"
   ]
  },
  {
   "cell_type": "code",
   "execution_count": 19,
   "id": "b745a9ea",
   "metadata": {},
   "outputs": [],
   "source": [
    "# fitting the model\n",
    "log_reg_model = LogisticRegression(X_train_normalized,y_train)\n",
    "log_reg_model_params,train_loss,test_loss = log_reg_model.fit()"
   ]
  },
  {
   "cell_type": "markdown",
   "id": "8b5a4e67",
   "metadata": {},
   "source": [
    "Let's see how well our model has fit the data by checking the test accuracy, precision, recall, F-score and confusion matrix"
   ]
  },
  {
   "cell_type": "code",
   "execution_count": 20,
   "id": "71d1a4a0",
   "metadata": {},
   "outputs": [],
   "source": [
    "log_reg_model_preds = log_reg_model.predict(X_test_normalized)\n",
    "accuracy,P,R,F,c = Functions().calculate_metrics(y_test,(log_reg_model_preds>0.5).reshape(-1))"
   ]
  },
  {
   "cell_type": "code",
   "execution_count": 21,
   "id": "23b1394e",
   "metadata": {},
   "outputs": [
    {
     "name": "stdout",
     "output_type": "stream",
     "text": [
      "The accuracy of the model is 0.9298245614035088\n",
      "The Precision of the model is 0.9487179487179487\n",
      "The Recall of the model is 0.8604651162790697\n",
      "The F-Score of the model is 0.9024390243902437\n",
      "The Confusion Matrix formed by the model is \n",
      " [[69.  2.]\n",
      " [ 6. 37.]]\n"
     ]
    }
   ],
   "source": [
    "print('The accuracy of the model is',accuracy)\n",
    "print('The Precision of the model is',P)\n",
    "print('The Recall of the model is',R)\n",
    "print('The F-Score of the model is',F)\n",
    "print('The Confusion Matrix formed by the model is \\n',c)"
   ]
  },
  {
   "cell_type": "code",
   "execution_count": 22,
   "id": "dcd01fff",
   "metadata": {},
   "outputs": [
    {
     "data": {
      "image/png": "[encoded data removed]",
      "text/plain": [
       "<Figure size 864x432 with 1 Axes>"
      ]
     },
     "metadata": {
      "needs_background": "light"
     },
     "output_type": "display_data"
    }
   ],
   "source": [
    "plt.figure(figsize=(12,6))\n",
    "plt.plot(np.arange(len(train_loss)),train_loss,color='red',label='Training Loss')\n",
    "plt.plot(np.arange(len(test_loss)),test_loss,color='orange',label='Testing Loss')\n",
    "plt.title('Trajectory of Training and Testing Loss of Logistic Regression');\n",
    "plt.xlabel('Number of Iterations');\n",
    "plt.ylabel('Cross Entropy Loss');\n",
    "plt.legend();\n",
    "plt.grid('on');"
   ]
  },
  {
   "cell_type": "markdown",
   "id": "f7f53d9b",
   "metadata": {},
   "source": [
    "Let's compare our model with the Scikit learn Logistic Regression Model"
   ]
  },
  {
   "cell_type": "code",
   "execution_count": 23,
   "id": "566cb3ae",
   "metadata": {},
   "outputs": [],
   "source": [
    "from sklearn.linear_model import LogisticRegression\n",
    "from sklearn.preprocessing import StandardScaler\n",
    "from sklearn.metrics import classification_report, confusion_matrix"
   ]
  },
  {
   "cell_type": "code",
   "execution_count": 27,
   "id": "94641d7a",
   "metadata": {},
   "outputs": [
    {
     "data": {
      "text/html": [
       "<style>#sk-container-id-3 {color: black;background-color: white;}#sk-container-id-3 pre{padding: 0;}#sk-container-id-3 div.sk-toggleable {background-color: white;}#sk-container-id-3 label.sk-toggleable__label {cursor: pointer;display: block;width: 100%;margin-bottom: 0;padding: 0.3em;box-sizing: border-box;text-align: center;}#sk-container-id-3 label.sk-toggleable__label-arrow:before {content: \"▸\";float: left;margin-right: 0.25em;color: #696969;}#sk-container-id-3 label.sk-toggleable__label-arrow:hover:before {color: black;}#sk-container-id-3 div.sk-estimator:hover label.sk-toggleable__label-arrow:before {color: black;}#sk-container-id-3 div.sk-toggleable__content {max-height: 0;max-width: 0;overflow: hidden;text-align: left;background-color: #f0f8ff;}#sk-container-id-3 div.sk-toggleable__content pre {margin: 0.2em;color: black;border-radius: 0.25em;background-color: #f0f8ff;}#sk-container-id-3 input.sk-toggleable__control:checked~div.sk-toggleable__content {max-height: 200px;max-width: 100%;overflow: auto;}#sk-container-id-3 input.sk-toggleable__control:checked~label.sk-toggleable__label-arrow:before {content: \"▾\";}#sk-container-id-3 div.sk-estimator input.sk-toggleable__control:checked~label.sk-toggleable__label {background-color: #d4ebff;}#sk-container-id-3 div.sk-label input.sk-toggleable__control:checked~label.sk-toggleable__label {background-color: #d4ebff;}#sk-container-id-3 input.sk-hidden--visually {border: 0;clip: rect(1px 1px 1px 1px);clip: rect(1px, 1px, 1px, 1px);height: 1px;margin: -1px;overflow: hidden;padding: 0;position: absolute;width: 1px;}#sk-container-id-3 div.sk-estimator {font-family: monospace;background-color: #f0f8ff;border: 1px dotted black;border-radius: 0.25em;box-sizing: border-box;margin-bottom: 0.5em;}#sk-container-id-3 div.sk-estimator:hover {background-color: #d4ebff;}#sk-container-id-3 div.sk-parallel-item::after {content: \"\";width: 100%;border-bottom: 1px solid gray;flex-grow: 1;}#sk-container-id-3 div.sk-label:hover label.sk-toggleable__label {background-color: #d4ebff;}#sk-container-id-3 div.sk-serial::before {content: \"\";position: absolute;border-left: 1px solid gray;box-sizing: border-box;top: 0;bottom: 0;left: 50%;z-index: 0;}#sk-container-id-3 div.sk-serial {display: flex;flex-direction: column;align-items: center;background-color: white;padding-right: 0.2em;padding-left: 0.2em;position: relative;}#sk-container-id-3 div.sk-item {position: relative;z-index: 1;}#sk-container-id-3 div.sk-parallel {display: flex;align-items: stretch;justify-content: center;background-color: white;position: relative;}#sk-container-id-3 div.sk-item::before, #sk-container-id-3 div.sk-parallel-item::before {content: \"\";position: absolute;border-left: 1px solid gray;box-sizing: border-box;top: 0;bottom: 0;left: 50%;z-index: -1;}#sk-container-id-3 div.sk-parallel-item {display: flex;flex-direction: column;z-index: 1;position: relative;background-color: white;}#sk-container-id-3 div.sk-parallel-item:first-child::after {align-self: flex-end;width: 50%;}#sk-container-id-3 div.sk-parallel-item:last-child::after {align-self: flex-start;width: 50%;}#sk-container-id-3 div.sk-parallel-item:only-child::after {width: 0;}#sk-container-id-3 div.sk-dashed-wrapped {border: 1px dashed gray;margin: 0 0.4em 0.5em 0.4em;box-sizing: border-box;padding-bottom: 0.4em;background-color: white;}#sk-container-id-3 div.sk-label label {font-family: monospace;font-weight: bold;display: inline-block;line-height: 1.2em;}#sk-container-id-3 div.sk-label-container {text-align: center;}#sk-container-id-3 div.sk-container {/* jupyter's `normalize.less` sets `[hidden] { display: none; }` but bootstrap.min.css set `[hidden] { display: none !important; }` so we also need the `!important` here to be able to override the default hidden behavior on the sphinx rendered scikit-learn.org. See: https://github.com/scikit-learn/scikit-learn/issues/21755 */display: inline-block !important;position: relative;}#sk-container-id-3 div.sk-text-repr-fallback {display: none;}</style><div id=\"sk-container-id-3\" class=\"sk-top-container\"><div class=\"sk-text-repr-fallback\"><pre>LogisticRegression(solver=&#x27;newton-cg&#x27;)</pre><b>In a Jupyter environment, please rerun this cell to show the HTML representation or trust the notebook. <br />On GitHub, the HTML representation is unable to render, please try loading this page with nbviewer.org.</b></div><div class=\"sk-container\" hidden><div class=\"sk-item\"><div class=\"sk-estimator sk-toggleable\"><input class=\"sk-toggleable__control sk-hidden--visually\" id=\"sk-estimator-id-3\" type=\"checkbox\" checked><label for=\"sk-estimator-id-3\" class=\"sk-toggleable__label sk-toggleable__label-arrow\">LogisticRegression</label><div class=\"sk-toggleable__content\"><pre>LogisticRegression(solver=&#x27;newton-cg&#x27;)</pre></div></div></div></div></div>"
      ],
      "text/plain": [
       "LogisticRegression(solver='newton-cg')"
      ]
     },
     "execution_count": 27,
     "metadata": {},
     "output_type": "execute_result"
    }
   ],
   "source": [
    "logreg = LogisticRegression(solver='newton-cg')\n",
    "logreg.fit(X_train_normalized[:,1:],y_train)"
   ]
  },
  {
   "cell_type": "code",
   "execution_count": 29,
   "id": "f8dee4ff",
   "metadata": {},
   "outputs": [],
   "source": [
    "preds = logreg.predict(X_test_normalized[:,1:])"
   ]
  },
  {
   "cell_type": "code",
   "execution_count": 30,
   "id": "f95a9839",
   "metadata": {},
   "outputs": [
    {
     "name": "stdout",
     "output_type": "stream",
     "text": [
      "              precision    recall  f1-score   support\n",
      "\n",
      "           0       0.97      1.00      0.99        71\n",
      "           1       1.00      0.95      0.98        43\n",
      "\n",
      "    accuracy                           0.98       114\n",
      "   macro avg       0.99      0.98      0.98       114\n",
      "weighted avg       0.98      0.98      0.98       114\n",
      " \n",
      " [[71  0]\n",
      " [ 2 41]]\n"
     ]
    }
   ],
   "source": [
    "print(classification_report(y_test,preds),'\\n',confusion_matrix(y_test,preds))"
   ]
  },
  {
   "cell_type": "markdown",
   "id": "95efd79e",
   "metadata": {},
   "source": [
    "Our model had the accuracy of 93% and sklearn implementation has gotten the accuracy of 98%"
   ]
  },
  {
   "cell_type": "markdown",
   "id": "e260b8f8",
   "metadata": {},
   "source": [
    "**Question:** Suppose model A and model B both have same accuracy, but model B has a higher\n",
    "F-score, which model would be suited?\n",
    "\n",
    "**Answer:** F1-score is the metric which captures the essence of both precision and recall and not highly effected by the class imbalance. The higher value of F1-score ensures good performance of the model over the range of confidence thresholds,therefore, model B is the better model."
   ]
  },
  {
   "cell_type": "markdown",
   "id": "90630f36",
   "metadata": {},
   "source": [
    "## 2. Discriminant Analysis"
   ]
  },
  {
   "cell_type": "code",
   "execution_count": 31,
   "id": "74a789db",
   "metadata": {},
   "outputs": [],
   "source": [
    "from sklearn.datasets import load_iris"
   ]
  },
  {
   "cell_type": "code",
   "execution_count": 32,
   "id": "5f09693b",
   "metadata": {},
   "outputs": [],
   "source": [
    "d = load_iris() #load the dataset\n",
    "X = d.data #split independent variables separate\n",
    "y = d.target #split target variables separate"
   ]
  },
  {
   "cell_type": "code",
   "execution_count": 33,
   "id": "aed00dce",
   "metadata": {},
   "outputs": [],
   "source": [
    "class QDA:\n",
    "    def __init__(self,X,y):\n",
    "        #initializing the class\n",
    "        self.X = X\n",
    "        self.y = y\n",
    "        self.classes = np.unique(self.y)\n",
    "        self.num_classes = len(np.unique(self.y))\n",
    "    \n",
    "    #function to estimate the best parameters and make the model\n",
    "    def fit(self):\n",
    "        #first define the mean\n",
    "        mean_k = [] #list that will store the mean of each class\n",
    "        sigma_k = [] #list that will store the covariance matrix of each class\n",
    "        pi_k = [] #list that will store the pi values for all the class K\n",
    "        for k in self.classes: #iterating over each class and storing its estimates\n",
    "            ind = self.y == k #indices where y belongs to class K\n",
    "            xk = self.X[ind] #X's for class k\n",
    "            mean_k.append(xk.mean(axis=0)) #mean with respect to class K\n",
    "            sigma_k.append(np.cov(xk,bias=True,rowvar=False)) #covariance matrix with respect to class K\n",
    "            pi_k.append(len(xk)/len(self.X)) #pi_k for the class K\n",
    "        self.mean_k,self.sigma_k,self.pi_k = mean_k,sigma_k,pi_k\n",
    "        return self.mean_k,self.sigma_k,self.pi_k\n",
    "    \n",
    "    #output the class of the data according to discriminant analysis\n",
    "    def predict(self,X):\n",
    "        mean_k,sigma_k,pi_k = self.mean_k,self.sigma_k,self.pi_k\n",
    "        delta_k = [] #this will record the predicted class for each variable\n",
    "        for x in X: #iterating over each observation \n",
    "            delta_x = [] #empty list to store delta_k for each observtion\n",
    "            for k in range(self.num_classes): #iterating over each class\n",
    "                diff = x - mean_k[k] \n",
    "                mahalanobis_distance = diff.T @ np.linalg.inv(sigma_k[k]) @ diff\n",
    "                d = -1/2*np.log(np.linalg.det(sigma_k[k]))-1/2*mahalanobis_distance+np.log(pi_k[k])\n",
    "                delta_x.append(d) #append the kth delta_k value of observation\n",
    "            delta_k.append(np.argmax(delta_x)) #append all values of delta_k of each variable in a list\n",
    "        return np.array(delta_k)"
   ]
  },
  {
   "cell_type": "code",
   "execution_count": 34,
   "id": "fef1e927",
   "metadata": {},
   "outputs": [],
   "source": [
    "## let's split the data into a training and testing set\n",
    "X_train, X_test, y_train, y_test = train_test_split(X, y, test_size=0.2, random_state=42)"
   ]
  },
  {
   "cell_type": "code",
   "execution_count": 35,
   "id": "deee63b0",
   "metadata": {},
   "outputs": [],
   "source": [
    "#define the model\n",
    "qda_model = QDA(X_train,y_train)\n",
    "#train it\n",
    "qda_model.fit();"
   ]
  },
  {
   "cell_type": "code",
   "execution_count": 36,
   "id": "23b825e9",
   "metadata": {},
   "outputs": [],
   "source": [
    "#obtaining predictions\n",
    "qda_pred = qda_model.predict(X_test)"
   ]
  },
  {
   "cell_type": "markdown",
   "id": "55bb0045",
   "metadata": {},
   "source": [
    "Similarly, let's make another class for LDA"
   ]
  },
  {
   "cell_type": "code",
   "execution_count": 37,
   "id": "be7a0e77",
   "metadata": {},
   "outputs": [],
   "source": [
    "class LDA:\n",
    "    def __init__(self,X,y):\n",
    "        self.X = X\n",
    "        self.y = y\n",
    "        self.num_features = X.shape[1]\n",
    "        self.num_classes = len(np.unique(self.y))\n",
    "    \n",
    "    #function to estimate the best parameters and make the model\n",
    "    def fit(self):\n",
    "        # since LDA is almost similar to QDA, we will estimate the parameters by using the QDA class\n",
    "        qda = QDA(self.X,self.y)\n",
    "        mean_k,sigma_k,pi_k = qda.fit()\n",
    "        # now we will take the weighted sum of the cov matrix\n",
    "        sigma = np.zeros(shape=(self.num_features,self.num_features))\n",
    "        for k in range(self.num_classes):\n",
    "            sigma = np.add(sigma,pi_k[k] * sigma_k[k])\n",
    "        self.mean_k,self.sigma,self.pi_k = mean_k,sigma,pi_k\n",
    "        return self.mean_k,self.sigma,self.pi_k\n",
    "            \n",
    "    \n",
    "    #output the class of the data according to discriminant analysis\n",
    "    def predict(self,X):\n",
    "        mean_k,sigma,pi_k = self.mean_k,self.sigma,self.pi_k\n",
    "        delta_k = [] #this will record the predicted class for each variable\n",
    "        for x in X: #iterating over each observation \n",
    "            delta_x = [] #empty list to store delta_k for each observtion\n",
    "            for k in range(self.num_classes): #iterating over each class\n",
    "                diff = x - mean_k[k]\n",
    "                mahalanobis_distance = diff.T @ np.linalg.inv(sigma) @ diff\n",
    "                d = -1/2*np.log(np.linalg.det(sigma))-1/2*mahalanobis_distance+np.log(pi_k[k])\n",
    "                delta_x.append(d) #append the kth delta_k value of observation\n",
    "            delta_k.append(np.argmax(delta_x)) #append all values of delta_k of each variable in a list\n",
    "        return np.array(delta_k)"
   ]
  },
  {
   "cell_type": "code",
   "execution_count": 38,
   "id": "7fe1aafd",
   "metadata": {},
   "outputs": [],
   "source": [
    "#defining the model\n",
    "lda_model = LDA(X_train,y_train)\n",
    "#estimating the parameters\n",
    "lda_model.fit()\n",
    "#predicting on the test set\n",
    "lda_pred = lda_model.predict(X_test)"
   ]
  },
  {
   "cell_type": "code",
   "execution_count": 39,
   "id": "45e096c0",
   "metadata": {},
   "outputs": [],
   "source": [
    "#let's calculate the test accuracies of both LDA and QDA\n",
    "def calculate_accuracy(true, pred):\n",
    "    accuracy = np.sum(true == pred)/len(pred)\n",
    "    #accuracy = 1-np.sum(np.abs(np.subtract(pred,true)))/len(pred)\n",
    "    return np.round(accuracy,3)"
   ]
  },
  {
   "cell_type": "code",
   "execution_count": 40,
   "id": "d394eb45",
   "metadata": {},
   "outputs": [
    {
     "name": "stdout",
     "output_type": "stream",
     "text": [
      "The Test Accuracy of the QDA model is 0.967\n",
      "The Test Accuracy of the LDA model is 1.0\n"
     ]
    }
   ],
   "source": [
    "print('The Test Accuracy of the QDA model is',calculate_accuracy(y_test,qda_pred))\n",
    "print('The Test Accuracy of the LDA model is',calculate_accuracy(y_test,lda_pred))"
   ]
  },
  {
   "cell_type": "markdown",
   "id": "f0ea6125",
   "metadata": {},
   "source": [
    "Let's compare our results with the sklearn QDA, LDA implementation"
   ]
  },
  {
   "cell_type": "code",
   "execution_count": 41,
   "id": "93041b3e",
   "metadata": {},
   "outputs": [],
   "source": [
    "from sklearn.discriminant_analysis import LinearDiscriminantAnalysis\n",
    "from sklearn.discriminant_analysis import QuadraticDiscriminantAnalysis"
   ]
  },
  {
   "cell_type": "code",
   "execution_count": 42,
   "id": "c3f83774",
   "metadata": {},
   "outputs": [
    {
     "data": {
      "text/html": [
       "<style>#sk-container-id-4 {color: black;background-color: white;}#sk-container-id-4 pre{padding: 0;}#sk-container-id-4 div.sk-toggleable {background-color: white;}#sk-container-id-4 label.sk-toggleable__label {cursor: pointer;display: block;width: 100%;margin-bottom: 0;padding: 0.3em;box-sizing: border-box;text-align: center;}#sk-container-id-4 label.sk-toggleable__label-arrow:before {content: \"▸\";float: left;margin-right: 0.25em;color: #696969;}#sk-container-id-4 label.sk-toggleable__label-arrow:hover:before {color: black;}#sk-container-id-4 div.sk-estimator:hover label.sk-toggleable__label-arrow:before {color: black;}#sk-container-id-4 div.sk-toggleable__content {max-height: 0;max-width: 0;overflow: hidden;text-align: left;background-color: #f0f8ff;}#sk-container-id-4 div.sk-toggleable__content pre {margin: 0.2em;color: black;border-radius: 0.25em;background-color: #f0f8ff;}#sk-container-id-4 input.sk-toggleable__control:checked~div.sk-toggleable__content {max-height: 200px;max-width: 100%;overflow: auto;}#sk-container-id-4 input.sk-toggleable__control:checked~label.sk-toggleable__label-arrow:before {content: \"▾\";}#sk-container-id-4 div.sk-estimator input.sk-toggleable__control:checked~label.sk-toggleable__label {background-color: #d4ebff;}#sk-container-id-4 div.sk-label input.sk-toggleable__control:checked~label.sk-toggleable__label {background-color: #d4ebff;}#sk-container-id-4 input.sk-hidden--visually {border: 0;clip: rect(1px 1px 1px 1px);clip: rect(1px, 1px, 1px, 1px);height: 1px;margin: -1px;overflow: hidden;padding: 0;position: absolute;width: 1px;}#sk-container-id-4 div.sk-estimator {font-family: monospace;background-color: #f0f8ff;border: 1px dotted black;border-radius: 0.25em;box-sizing: border-box;margin-bottom: 0.5em;}#sk-container-id-4 div.sk-estimator:hover {background-color: #d4ebff;}#sk-container-id-4 div.sk-parallel-item::after {content: \"\";width: 100%;border-bottom: 1px solid gray;flex-grow: 1;}#sk-container-id-4 div.sk-label:hover label.sk-toggleable__label {background-color: #d4ebff;}#sk-container-id-4 div.sk-serial::before {content: \"\";position: absolute;border-left: 1px solid gray;box-sizing: border-box;top: 0;bottom: 0;left: 50%;z-index: 0;}#sk-container-id-4 div.sk-serial {display: flex;flex-direction: column;align-items: center;background-color: white;padding-right: 0.2em;padding-left: 0.2em;position: relative;}#sk-container-id-4 div.sk-item {position: relative;z-index: 1;}#sk-container-id-4 div.sk-parallel {display: flex;align-items: stretch;justify-content: center;background-color: white;position: relative;}#sk-container-id-4 div.sk-item::before, #sk-container-id-4 div.sk-parallel-item::before {content: \"\";position: absolute;border-left: 1px solid gray;box-sizing: border-box;top: 0;bottom: 0;left: 50%;z-index: -1;}#sk-container-id-4 div.sk-parallel-item {display: flex;flex-direction: column;z-index: 1;position: relative;background-color: white;}#sk-container-id-4 div.sk-parallel-item:first-child::after {align-self: flex-end;width: 50%;}#sk-container-id-4 div.sk-parallel-item:last-child::after {align-self: flex-start;width: 50%;}#sk-container-id-4 div.sk-parallel-item:only-child::after {width: 0;}#sk-container-id-4 div.sk-dashed-wrapped {border: 1px dashed gray;margin: 0 0.4em 0.5em 0.4em;box-sizing: border-box;padding-bottom: 0.4em;background-color: white;}#sk-container-id-4 div.sk-label label {font-family: monospace;font-weight: bold;display: inline-block;line-height: 1.2em;}#sk-container-id-4 div.sk-label-container {text-align: center;}#sk-container-id-4 div.sk-container {/* jupyter's `normalize.less` sets `[hidden] { display: none; }` but bootstrap.min.css set `[hidden] { display: none !important; }` so we also need the `!important` here to be able to override the default hidden behavior on the sphinx rendered scikit-learn.org. See: https://github.com/scikit-learn/scikit-learn/issues/21755 */display: inline-block !important;position: relative;}#sk-container-id-4 div.sk-text-repr-fallback {display: none;}</style><div id=\"sk-container-id-4\" class=\"sk-top-container\"><div class=\"sk-text-repr-fallback\"><pre>QuadraticDiscriminantAnalysis()</pre><b>In a Jupyter environment, please rerun this cell to show the HTML representation or trust the notebook. <br />On GitHub, the HTML representation is unable to render, please try loading this page with nbviewer.org.</b></div><div class=\"sk-container\" hidden><div class=\"sk-item\"><div class=\"sk-estimator sk-toggleable\"><input class=\"sk-toggleable__control sk-hidden--visually\" id=\"sk-estimator-id-4\" type=\"checkbox\" checked><label for=\"sk-estimator-id-4\" class=\"sk-toggleable__label sk-toggleable__label-arrow\">QuadraticDiscriminantAnalysis</label><div class=\"sk-toggleable__content\"><pre>QuadraticDiscriminantAnalysis()</pre></div></div></div></div></div>"
      ],
      "text/plain": [
       "QuadraticDiscriminantAnalysis()"
      ]
     },
     "execution_count": 42,
     "metadata": {},
     "output_type": "execute_result"
    }
   ],
   "source": [
    "sklearn_lda = LinearDiscriminantAnalysis()\n",
    "sklearn_lda.fit(X_train,y_train)\n",
    "sklearn_qda = QuadraticDiscriminantAnalysis()\n",
    "sklearn_qda.fit(X_train,y_train)"
   ]
  },
  {
   "cell_type": "code",
   "execution_count": 43,
   "id": "35c260bc",
   "metadata": {},
   "outputs": [
    {
     "name": "stdout",
     "output_type": "stream",
     "text": [
      "The Test Accuracy of the Sklearn QDA model is 0.967\n",
      "The Test Accuracy of the Sklearn LDA model is 1.0\n"
     ]
    }
   ],
   "source": [
    "print('The Test Accuracy of the Sklearn QDA model is',calculate_accuracy(y_test,sklearn_qda.predict(X_test)))\n",
    "print('The Test Accuracy of the Sklearn LDA model is',calculate_accuracy(y_test,sklearn_lda.predict(X_test)))"
   ]
  },
  {
   "cell_type": "markdown",
   "id": "7be7c332",
   "metadata": {},
   "source": [
    "This is exactly the same as our model which tells our implementation is correct."
   ]
  },
  {
   "cell_type": "code",
   "execution_count": null,
   "id": "046397cd",
   "metadata": {},
   "outputs": [],
   "source": []
  }
 ],
 "metadata": {
  "kernelspec": {
   "display_name": "Python 3 (ipykernel)",
   "language": "python",
   "name": "python3"
  },
  "language_info": {
   "codemirror_mode": {
    "name": "ipython",
    "version": 3
   },
   "file_extension": ".py",
   "mimetype": "text/x-python",
   "name": "python",
   "nbconvert_exporter": "python",
   "pygments_lexer": "ipython3",
   "version": "3.9.13"
  }
 },
 "nbformat": 4,
 "nbformat_minor": 5
}
