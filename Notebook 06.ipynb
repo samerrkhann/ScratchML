{
  "cells": [
    {
      "cell_type": "code",
      "execution_count": 24,
      "id": "7e7a167e",
      "metadata": {
        "id": "7e7a167e"
      },
      "outputs": [],
      "source": [
        "import pandas as pd\n",
        "import numpy as np\n",
        "from sklearn.model_selection import train_test_split\n",
        "import matplotlib.pyplot as plt\n",
        "import seaborn as sns\n",
        "from sklearn.preprocessing import StandardScaler\n",
        "from scipy import stats as st\n",
        "import scipy.spatial.distance as dist\n",
        "from sklearn.metrics import accuracy_score\n",
        "import time\n",
        "sns.set_style('whitegrid')"
      ]
    },
    {
      "cell_type": "markdown",
      "id": "285bd4f4",
      "metadata": {
        "id": "285bd4f4"
      },
      "source": [
        "## 1. Implementing Coordinate Descent"
      ]
    },
    {
      "cell_type": "code",
      "execution_count": 2,
      "id": "7485c29a",
      "metadata": {
        "id": "7485c29a"
      },
      "outputs": [],
      "source": [
        "# reading the data\n",
        "with open('regression.npy', 'rb') as f:\n",
        "    X = np.load(f) #loading the features\n",
        "    y = np.load(f) #loading the targets"
      ]
    },
    {
      "cell_type": "code",
      "execution_count": 3,
      "id": "fa5cdfca",
      "metadata": {
        "id": "fa5cdfca"
      },
      "outputs": [],
      "source": [
        "#splitting the data into training and testing set\n",
        "X_train, X_test, y_train, y_test = train_test_split(X, y, test_size=0.2, random_state=42)"
      ]
    },
    {
      "cell_type": "markdown",
      "id": "42462cd4",
      "metadata": {
        "id": "42462cd4"
      },
      "source": [
        "### a. Simple Linear Regression with Coordinate Descent"
      ]
    },
    {
      "cell_type": "code",
      "execution_count": 4,
      "id": "53a2cd79",
      "metadata": {
        "id": "53a2cd79"
      },
      "outputs": [],
      "source": [
        "class Coordinate_Descent:\n",
        "    def __init__(self, X, y, L1=None):\n",
        "        #for normalizing features\n",
        "        self.scalar = StandardScaler().fit(X)\n",
        "        self.X = np.append(np.ones(X.shape[0]).reshape(-1,1),self.scalar.transform(X),1)\n",
        "        self.y = y.reshape(-1,1)\n",
        "        self.n = self.X.shape[1]\n",
        "        self.alpha = 1 #value for L1 penalty\n",
        "        self.L1 = L1 #L1 check\n",
        "    \n",
        "    #soft function to aid feature updation using Lasso\n",
        "    def soft_func(self,x,e):\n",
        "        if x>e:\n",
        "            return x - e\n",
        "        elif x<-e:\n",
        "            return x + e\n",
        "        else:\n",
        "            return 0\n",
        "    \n",
        "    def fit(self):\n",
        "        max_iter = 100 #maximum number of iterations\n",
        "        tolerance = 1e-6 #tolerance\n",
        "        B = np.zeros(self.n).reshape(-1,1) #initial betas\n",
        "        B_history = np.zeros(shape=(1,self.n)) #for making the history of Betas\n",
        "        \n",
        "        #iterating till max_iterations\n",
        "        for it in range(max_iter):\n",
        "            B_old = B.copy() #make a copy of beta to compare with new ones to check the amount of change\n",
        "            for i in range(self.n): #optimizing over one feature at a time\n",
        "                X_i = np.delete(self.X,i,axis=1) #All features except the i-th feature\n",
        "                B_i = np.delete(B,i,axis=0) #All Betas except the i-th beta\n",
        "\n",
        "                #To update the beta vector\n",
        "                update = np.divide(((self.y - X_i@B_i).T @ self.X[:,i]),self.X[:,i].T @ self.X[:,i])\n",
        "                \n",
        "                #if doing L1 regularization\n",
        "                if self.L1:\n",
        "                    #penalty term\n",
        "                    penalty = np.divide(1/2*self.alpha,self.X[:,i].T @ self.X[:,i])\n",
        "                    #soft function outputs the optimized value, here depending on inputs the feature can be set to exactly 0\n",
        "                    B[i] = self.soft_func(update,penalty)\n",
        "                else:\n",
        "                    B[i] = update\n",
        "            \n",
        "            #for making the history of Beta values\n",
        "            B_history = np.vstack((B_history,B.reshape(-1)))\n",
        "            #to know by how much the value changed\n",
        "            e = B-B_old\n",
        "            #stop loop once updation becomes insignificant\n",
        "            if np.all(np.abs(e) < tolerance):\n",
        "                self.B = B\n",
        "                return B,B_history\n",
        "        \n",
        "        self.B = B\n",
        "        return B,B_history\n",
        "    \n",
        "    def predict(self,x):\n",
        "        return np.append(np.ones(x.shape[0]).reshape(-1,1),self.scalar.transform(x),1) @ self.B"
      ]
    },
    {
      "cell_type": "markdown",
      "id": "fb233b24",
      "metadata": {
        "id": "fb233b24"
      },
      "source": [
        "Fitting the model on the training data"
      ]
    },
    {
      "cell_type": "code",
      "execution_count": 5,
      "id": "e7c896a2",
      "metadata": {
        "id": "e7c896a2"
      },
      "outputs": [],
      "source": [
        "#without regularization\n",
        "unreg_CD = Coordinate_Descent(X_train,y_train,L1=False)\n",
        "b_unreg, b_hist_unreg= unreg_CD.fit()\n",
        "\n",
        "#with regularization\n",
        "reg_CD = Coordinate_Descent(X_train,y_train,L1=True)\n",
        "b_reg, b_hist_reg= reg_CD.fit()"
      ]
    },
    {
      "cell_type": "markdown",
      "id": "a1982cd9",
      "metadata": {
        "id": "a1982cd9"
      },
      "source": [
        "Plotting the values of $\\beta$ against the number of iterations for unregularized case"
      ]
    },
    {
      "cell_type": "code",
      "execution_count": 6,
      "id": "ca327f29",
      "metadata": {
        "colab": {
          "base_uri": "https://localhost:8080/",
          "height": 352
        },
        "id": "ca327f29",
        "outputId": "8b3890fd-6c7e-405a-e342-1c746d1cf69e"
      },
      "outputs": [
        {
          "output_type": "display_data",
          "data": {
            "text/plain": [
              "<Figure size 864x360 with 1 Axes>"
            ],
            "image/png": "[encoded data removed]"
          },
          "metadata": {}
        }
      ],
      "source": [
        "b_hist_unreg = pd.DataFrame(b_hist_unreg,columns=['B0','B1','B2','B3','B4','B5','B6'])\n",
        "ax = b_hist_unreg.plot(figsize=(12,5),\\\n",
        "title=r'Plot of $\\beta$ values against the number of iterations (Unregularized)');\n",
        "ax.set_xlabel(\"Number of iterations\");\n",
        "ax.set_ylabel(r\"$\\beta$ values\");"
      ]
    },
    {
      "cell_type": "markdown",
      "id": "c2b154a4",
      "metadata": {
        "id": "c2b154a4"
      },
      "source": [
        "Plotting the values of $\\beta$ against the number of iterations for regularized case"
      ]
    },
    {
      "cell_type": "code",
      "execution_count": 7,
      "id": "cfd3649e",
      "metadata": {
        "colab": {
          "base_uri": "https://localhost:8080/",
          "height": 352
        },
        "id": "cfd3649e",
        "outputId": "a9f22607-6291-410f-e590-43c037f76b4d"
      },
      "outputs": [
        {
          "output_type": "display_data",
          "data": {
            "text/plain": [
              "<Figure size 864x360 with 1 Axes>"
            ],
            "image/png": "[encoded data removed]"
          },
          "metadata": {}
        }
      ],
      "source": [
        "b_hist_reg = pd.DataFrame(b_hist_reg,columns=['B0','B1','B2','B3','B4','B5','B6'])\n",
        "ax = b_hist_reg.plot(figsize=(12,5),\\\n",
        "title=r'Plot of $\\beta$ values against the number of iterations (Regularized)');\n",
        "ax.set_xlabel(\"Number of iterations\");\n",
        "ax.set_ylabel(r\"$\\beta$ values\");"
      ]
    },
    {
      "cell_type": "markdown",
      "id": "ecfaa607",
      "metadata": {
        "id": "ecfaa607"
      },
      "source": [
        "**Question:** Compare the plots of the unregularized and regularized CD\n",
        "\n",
        "Here the graph looks same for both regularized and unregularized case, however, once we zoom into the final output of the values in the two cases, we can see the difference."
      ]
    },
    {
      "cell_type": "code",
      "execution_count": 8,
      "id": "79667b42",
      "metadata": {
        "colab": {
          "base_uri": "https://localhost:8080/"
        },
        "id": "79667b42",
        "outputId": "8542b649-52ec-462c-b695-de36dbdc62f1"
      },
      "outputs": [
        {
          "output_type": "execute_result",
          "data": {
            "text/plain": [
              "B0     3.333237\n",
              "B1     3.753771\n",
              "B2     0.000234\n",
              "B3    21.363149\n",
              "B4     0.000107\n",
              "B5    96.127483\n",
              "B6     2.218797\n",
              "Name: 7, dtype: float64"
            ]
          },
          "metadata": {},
          "execution_count": 8
        }
      ],
      "source": [
        "#for unregularized case\n",
        "b_hist_unreg.iloc[-1,:]"
      ]
    },
    {
      "cell_type": "code",
      "execution_count": 9,
      "id": "5fe3ef70",
      "metadata": {
        "colab": {
          "base_uri": "https://localhost:8080/"
        },
        "id": "5fe3ef70",
        "outputId": "35bd6218-b6b0-4844-d610-6faf103717f2"
      },
      "outputs": [
        {
          "output_type": "execute_result",
          "data": {
            "text/plain": [
              "B0     3.332612\n",
              "B1     3.753158\n",
              "B2     0.000000\n",
              "B3    21.362537\n",
              "B4     0.000000\n",
              "B5    96.126869\n",
              "B6     2.218154\n",
              "Name: 6, dtype: float64"
            ]
          },
          "metadata": {},
          "execution_count": 9
        }
      ],
      "source": [
        "#for regularized case\n",
        "b_hist_reg.iloc[-1,:]"
      ]
    },
    {
      "cell_type": "markdown",
      "id": "1e62656b",
      "metadata": {
        "id": "1e62656b"
      },
      "source": [
        "Here we can see that, the values of B2 and B4 have reached exactly 0 in case of Lasso while for the normal regression case, it is close to 0 but not exactly 0. This is the property of Lasso Regression that it makes weights/slope of unnecessary features equal to 0 so that in the analysis they are excluded. For other parameters the optimum value is more or less similar. The Lasso model also converged faster than our normal regression model based on our stopping criteria."
      ]
    },
    {
      "cell_type": "markdown",
      "id": "91b2c0e7",
      "metadata": {
        "id": "91b2c0e7"
      },
      "source": [
        "**Question:** How is the Coordinate Descent method different from SGD and Newton’s method? In which case is it\n",
        "advisable to use the CD method?\n",
        "\n",
        "The Coordinate Descent method is different in a way that it treats an optimization problem as a 1-D sub problem and optimizes one variable at a time. Newton and SGD methods optimizes for all variable at a same time. Also, in the case of CD no step length is required. In cases where the function is not differentiable at every point, it is recommended to use coordinate descent, however, coordinate descent is not perfect and prone to stucking before global minima in cases where the level curves of a function is not smooth. Also, for the cases where a 1-d subproblem can be solved analytically CD can give boost in convergance."
      ]
    },
    {
      "cell_type": "markdown",
      "id": "2d5b0d38",
      "metadata": {
        "id": "2d5b0d38"
      },
      "source": [
        "## 2. Accelerating K-Nearest Neighbour Classifier"
      ]
    },
    {
      "cell_type": "code",
      "execution_count": 10,
      "id": "7e6b0615",
      "metadata": {
        "id": "7e6b0615"
      },
      "outputs": [],
      "source": [
        "# reading the data\n",
        "with open('classification.npy', 'rb') as f:\n",
        "    X = np.load(f) #loading the features\n",
        "    y = np.load(f) #loading the targets"
      ]
    },
    {
      "cell_type": "code",
      "execution_count": 11,
      "id": "91014f21",
      "metadata": {
        "id": "91014f21"
      },
      "outputs": [],
      "source": [
        "#splitting the data into training and testing set\n",
        "X_train, X_test, y_train, y_test = train_test_split(X, y, test_size=0.2, random_state=42)"
      ]
    },
    {
      "cell_type": "code",
      "execution_count": 12,
      "id": "bbed4d5c",
      "metadata": {
        "id": "bbed4d5c"
      },
      "outputs": [],
      "source": [
        "scalar = StandardScaler()\n",
        "X_train_scaled = scalar.fit_transform(X_train)\n",
        "X_test_scaled = scalar.transform(X_test)"
      ]
    },
    {
      "cell_type": "code",
      "execution_count": 13,
      "id": "368dfaf1",
      "metadata": {
        "id": "368dfaf1"
      },
      "outputs": [],
      "source": [
        "class KNN:\n",
        "    def __init__(self, X, y, K, distance_metric):\n",
        "        self.X = X\n",
        "        self.y = y #targets\n",
        "        self.K = K #num neighbors\n",
        "        self.N = X.shape[0]\n",
        "        self.M = X.shape[1]\n",
        "        self.dist_metric = distance_metric #distance metric to be used\n",
        "    \n",
        "    \n",
        "    def predict(self,x):\n",
        "        y_pred = np.empty(x.shape[0])\n",
        "        c1 = 0\n",
        "        #iterating over each testing example\n",
        "        for samp in x:\n",
        "            #this calculates the distance of the sample with whole training data\n",
        "            d = np.empty(self.N)\n",
        "            c2 = 0\n",
        "            for train_sample in self.X:\n",
        "                d[c2] = self.dist_metric(samp,train_sample)\n",
        "                c2+=1\n",
        "            #to get the classes of the top K nearest neighbors\n",
        "            neighbor_classes = self.y[d.argsort()[:self.K]]\n",
        "            #assigning the majority class in the neighbors, if there is no majority, assign the class of closest neighbor\n",
        "            cls,freq = st.mode(neighbor_classes)\n",
        "\n",
        "            y_pred[c1] = cls\n",
        "            \n",
        "            c1+=1\n",
        "        return y_pred\n",
        "    \n",
        "    \n",
        "    def predict_partial_distance(self,x):\n",
        "        y_pred = np.empty(x.shape[0])\n",
        "        c1 = 0\n",
        "        \n",
        "        for test_sample in x:\n",
        "            dk = np.empty(self.K)\n",
        "            \n",
        "            #calculating the distance with the first K neighbors\n",
        "            for n in range(self.K):\n",
        "                dk[n] = self.dist_metric(test_sample,self.X[n,:])\n",
        "            \n",
        "            #to sort an array\n",
        "            ind = dk.argsort()\n",
        "            \n",
        "            #now iterating over rest of the training examples\n",
        "            for n in range(self.K,self.N):\n",
        "                d = 0\n",
        "                m = 0\n",
        "                dk_max = np.max(dk)\n",
        "                dk_argmax = np.argmax(dk)\n",
        "                \n",
        "                while (m < self.M) and (d < dk_max):\n",
        "                    d = self.dist_metric(test_sample[0:m],np.array(self.X[n,0:m]))\n",
        "                    m+=1\n",
        "                    \n",
        "                if d < dk_max:\n",
        "                    dk[dk_argmax] = d\n",
        "                    ind[dk_argmax] = n\n",
        "                    \n",
        "            #to get the classes of the top K nearest neighbors       \n",
        "            neighbor_classes = self.y[ind]\n",
        "            #assigning the majority class in the neighbors, if there is no majority, assign the class of closest neighbor\n",
        "            cls,freq = st.mode(neighbor_classes)\n",
        "            y_pred[c1] = cls \n",
        "            c1 +=1\n",
        "            \n",
        "        return y_pred"
      ]
    },
    {
      "cell_type": "code",
      "execution_count": 14,
      "id": "f6d4c1c2",
      "metadata": {
        "id": "f6d4c1c2"
      },
      "outputs": [],
      "source": [
        "class HashTables:\n",
        "    def __init__ (self, X, y, key_size, num_tables):\n",
        "        self.X = X\n",
        "        self.y = y\n",
        "        self.k = key_size #dimension of projections or size of key\n",
        "        self.t = num_tables #number of tables\n",
        "        self.d = X.shape[1]\n",
        "        \n",
        "    def create_key(self, x, key_gen):\n",
        "        key = (np.dot(x,key_gen)>0).astype(np.int8) #Encoding random projections into a key\n",
        "        hash_keys = [''.join(o.astype('str')) for o in key] #making a single string key for each sample\n",
        "        return hash_keys\n",
        "    \n",
        "    def create_hash_keys(self):\n",
        "        key_gen = np.random.randn(self.k,self.d).T #Random Projections\n",
        "        hash_keys = self.create_key(self.X, key_gen) #generating the keys of training examples\n",
        "        return hash_keys, key_gen\n",
        "    \n",
        "    def create_hash_tables(self):\n",
        "        tables = [] #to store all hash tables\n",
        "        key_gens = [] #to store all key generators\n",
        "        \n",
        "        for _ in range(self.t):\n",
        "            \n",
        "            #hash table with each key generator\n",
        "            table = {}\n",
        "            \n",
        "            #create hash keys for each hash table\n",
        "            hash_keys,key_gen = self.create_hash_keys()\n",
        "            \n",
        "            #store indexes of examples which fall into same bin\n",
        "            for i,v in enumerate(hash_keys):\n",
        "                table[v] = table.get(v,list()) + [i]\n",
        "            \n",
        "            #once a complete hash table is created add it with other hash tables\n",
        "            tables.append(table)\n",
        "            \n",
        "            #store the key generator too\n",
        "            key_gens.append(key_gen)\n",
        "        \n",
        "        return tables,key_gens"
      ]
    },
    {
      "cell_type": "code",
      "execution_count": 15,
      "id": "ccf3cfcb",
      "metadata": {
        "id": "ccf3cfcb"
      },
      "outputs": [],
      "source": [
        "class LSH:\n",
        "    def __init__(self, X, y, K, k, num_tables, distance_metric):\n",
        "        self.scalar = StandardScaler().fit(X)\n",
        "        self.X = self.scalar.transform(X) #features\n",
        "        self.y = y #targets\n",
        "        self.K = K #num neighbors\n",
        "        self.k = k #dimension of projection/ key size\n",
        "        self.n_tables = num_tables #number of hashtables\n",
        "        self.N = X.shape[0]\n",
        "        self.M = X.shape[1]\n",
        "        self.dist_metric = distance_metric #distance metric to be used\n",
        "        self.maj_class, _ = st.mode(self.y)\n",
        "        \n",
        "    def fit(self):\n",
        "        self.h = HashTables(self.X, self.y, self.k, self.n_tables)\n",
        "        self.tables, self.key_gens = self.h.create_hash_tables()\n",
        "\n",
        "    def predict(self,x):\n",
        "        y_pred = np.empty(x.shape[0])\n",
        "        \n",
        "        #iterating over each test sample\n",
        "        for c1,test_samp in enumerate(x):\n",
        "            ind = [] #to store the indices of neighbors which appear togather in atleast one hash table\n",
        "            \n",
        "            #iterating over each table and finding the potential neighbors of each test example\n",
        "            for gen,table in zip(self.key_gens,self.tables):\n",
        "                test_samp = test_samp.reshape(1,-1)\n",
        "                key = self.h.create_key(test_samp,gen)[0] #creaitng the key of test example\n",
        "                ind = set(table.get(key,list())).union(set(ind)) #to get indices of neighbors\n",
        "            \n",
        "            #to get the features of only subset of training samples    \n",
        "            x_subset = self.X[list(ind)]\n",
        "            #incase if the test sample does not have any neighbor in its bucket set its class same as majority class\n",
        "            if len(x_subset)<1:\n",
        "                y_pred[c1] = self.maj_class\n",
        "                continue\n",
        "\n",
        "            d = {}\n",
        "            \n",
        "            #iterating over each sample in the subset\n",
        "            for c2, train_samp in zip(list(ind),x_subset):\n",
        "                d[c2] = self.dist_metric(test_samp.reshape(-1),train_samp.reshape(-1))  \n",
        "             \n",
        "            #to sort the dictionary by values\n",
        "            d = dict(sorted(d.items(), key=lambda x: x[1]))\n",
        "            \n",
        "            #to get the classes of the top K nearest neighbors\n",
        "            neighbor_classes = self.y[list(d.keys())[:self.K]]\n",
        "            \n",
        "            #assigning the majority class in the neighbors\n",
        "            cls,freq = st.mode(neighbor_classes)\n",
        "\n",
        "            y_pred[c1] = cls\n",
        "            \n",
        "        return y_pred"
      ]
    },
    {
      "cell_type": "markdown",
      "id": "01663192",
      "metadata": {
        "id": "01663192"
      },
      "source": [
        "Calculating the accuracy and runtime on test set with Vanilla KNN and Cityblock Distance"
      ]
    },
    {
      "cell_type": "code",
      "execution_count": 16,
      "id": "aa0917e5",
      "metadata": {
        "id": "aa0917e5"
      },
      "outputs": [],
      "source": [
        "accuracy_knn = []\n",
        "Time_knn = []\n",
        "for k in range(1,8):\n",
        "    #making the KNN model\n",
        "    m = KNN(X_train_scaled,y_train,k,dist.cityblock)\n",
        "    i = time.time()\n",
        "    p = m.predict(X_test_scaled)\n",
        "    t = time.time()-i\n",
        "    accuracy_knn.append(accuracy_score(y_test,p))\n",
        "    Time_knn.append(t)"
      ]
    },
    {
      "cell_type": "markdown",
      "id": "c08b4e85",
      "metadata": {
        "id": "c08b4e85"
      },
      "source": [
        "Calculating the accuracy and runtime on test set with Partial Distance KNN and Cityblock Distance"
      ]
    },
    {
      "cell_type": "code",
      "execution_count": 17,
      "id": "4e5fb082",
      "metadata": {
        "id": "4e5fb082"
      },
      "outputs": [],
      "source": [
        "accuracy_pd = []\n",
        "Time_pd = []\n",
        "for k in range(1,8):\n",
        "    #making the KNN model\n",
        "    m = KNN(X_train_scaled,y_train,k,dist.cityblock)\n",
        "    i = time.time()\n",
        "    p = m.predict_partial_distance(X_test_scaled)\n",
        "    t = time.time()-i\n",
        "    accuracy_pd.append(accuracy_score(y_test,p))\n",
        "    Time_pd.append(t)"
      ]
    },
    {
      "cell_type": "markdown",
      "id": "d4122de5",
      "metadata": {
        "id": "d4122de5"
      },
      "source": [
        "Calculating the accuracy and runtime on test set with LSH KNN and Cityblock Distance"
      ]
    },
    {
      "cell_type": "code",
      "execution_count": 22,
      "id": "364a7c27",
      "metadata": {
        "id": "364a7c27"
      },
      "outputs": [],
      "source": [
        "accuracy_lsh = []\n",
        "Time_lsh = []\n",
        "for k in range(1,8):\n",
        "    #making the KNN model\n",
        "    m = LSH(X_train_scaled,y_train,k,10,100,dist.cityblock)\n",
        "    m.fit()\n",
        "    i = time.time()\n",
        "    p = m.predict(X_test_scaled)\n",
        "    t = time.time()-i\n",
        "    accuracy_lsh.append(accuracy_score(y_test,p))\n",
        "    Time_lsh.append(t)"
      ]
    },
    {
      "cell_type": "markdown",
      "id": "cad13a49",
      "metadata": {
        "id": "cad13a49"
      },
      "source": [
        "Let's make a DataFrame to compare the results"
      ]
    },
    {
      "cell_type": "code",
      "execution_count": 25,
      "id": "694d9d2b",
      "metadata": {
        "colab": {
          "base_uri": "https://localhost:8080/",
          "height": 161
        },
        "id": "694d9d2b",
        "outputId": "0dc7c79f-2db2-4732-8167-497a8a7eab0d"
      },
      "outputs": [
        {
          "output_type": "stream",
          "name": "stdout",
          "text": [
            "Comparision in terms of Accuracy\n"
          ]
        },
        {
          "output_type": "execute_result",
          "data": {
            "text/plain": [
              "                      1      2      3      4     5      6     7\n",
              "Vanilla KNN       0.705  0.745  0.785   0.79   0.8  0.795  0.79\n",
              "Partial Distance  0.715   0.74  0.775  0.755  0.79  0.805  0.81\n",
              "LSH                0.74  0.735   0.74  0.755  0.81  0.805  0.82"
            ],
            "text/html": [
              "\n",
              "  <div id=\"df-8338748d-6257-4aa5-9dbe-010fec9b4123\">\n",
              "    <div class=\"colab-df-container\">\n",
              "      <div>\n",
              "<style scoped>\n",
              "    .dataframe tbody tr th:only-of-type {\n",
              "        vertical-align: middle;\n",
              "    }\n",
              "\n",
              "    .dataframe tbody tr th {\n",
              "        vertical-align: top;\n",
              "    }\n",
              "\n",
              "    .dataframe thead th {\n",
              "        text-align: right;\n",
              "    }\n",
              "</style>\n",
              "<table border=\"1\" class=\"dataframe\">\n",
              "  <thead>\n",
              "    <tr style=\"text-align: right;\">\n",
              "      <th></th>\n",
              "      <th>1</th>\n",
              "      <th>2</th>\n",
              "      <th>3</th>\n",
              "      <th>4</th>\n",
              "      <th>5</th>\n",
              "      <th>6</th>\n",
              "      <th>7</th>\n",
              "    </tr>\n",
              "  </thead>\n",
              "  <tbody>\n",
              "    <tr>\n",
              "      <th>Vanilla KNN</th>\n",
              "      <td>0.705</td>\n",
              "      <td>0.745</td>\n",
              "      <td>0.785</td>\n",
              "      <td>0.79</td>\n",
              "      <td>0.8</td>\n",
              "      <td>0.795</td>\n",
              "      <td>0.79</td>\n",
              "    </tr>\n",
              "    <tr>\n",
              "      <th>Partial Distance</th>\n",
              "      <td>0.715</td>\n",
              "      <td>0.74</td>\n",
              "      <td>0.775</td>\n",
              "      <td>0.755</td>\n",
              "      <td>0.79</td>\n",
              "      <td>0.805</td>\n",
              "      <td>0.81</td>\n",
              "    </tr>\n",
              "    <tr>\n",
              "      <th>LSH</th>\n",
              "      <td>0.74</td>\n",
              "      <td>0.735</td>\n",
              "      <td>0.74</td>\n",
              "      <td>0.755</td>\n",
              "      <td>0.81</td>\n",
              "      <td>0.805</td>\n",
              "      <td>0.82</td>\n",
              "    </tr>\n",
              "  </tbody>\n",
              "</table>\n",
              "</div>\n",
              "      <button class=\"colab-df-convert\" onclick=\"convertToInteractive('df-8338748d-6257-4aa5-9dbe-010fec9b4123')\"\n",
              "              title=\"Convert this dataframe to an interactive table.\"\n",
              "              style=\"display:none;\">\n",
              "        \n",
              "  <svg xmlns=\"http://www.w3.org/2000/svg\" height=\"24px\"viewBox=\"0 0 24 24\"\n",
              "       width=\"24px\">\n",
              "    <path d=\"M0 0h24v24H0V0z\" fill=\"none\"/>\n",
              "    <path d=\"M18.56 5.44l.94 2.06.94-2.06 2.06-.94-2.06-.94-.94-2.06-.94 2.06-2.06.94zm-11 1L8.5 8.5l.94-2.06 2.06-.94-2.06-.94L8.5 2.5l-.94 2.06-2.06.94zm10 10l.94 2.06.94-2.06 2.06-.94-2.06-.94-.94-2.06-.94 2.06-2.06.94z\"/><path d=\"M17.41 7.96l-1.37-1.37c-.4-.4-.92-.59-1.43-.59-.52 0-1.04.2-1.43.59L10.3 9.45l-7.72 7.72c-.78.78-.78 2.05 0 2.83L4 21.41c.39.39.9.59 1.41.59.51 0 1.02-.2 1.41-.59l7.78-7.78 2.81-2.81c.8-.78.8-2.07 0-2.86zM5.41 20L4 18.59l7.72-7.72 1.47 1.35L5.41 20z\"/>\n",
              "  </svg>\n",
              "      </button>\n",
              "      \n",
              "  <style>\n",
              "    .colab-df-container {\n",
              "      display:flex;\n",
              "      flex-wrap:wrap;\n",
              "      gap: 12px;\n",
              "    }\n",
              "\n",
              "    .colab-df-convert {\n",
              "      background-color: #E8F0FE;\n",
              "      border: none;\n",
              "      border-radius: 50%;\n",
              "      cursor: pointer;\n",
              "      display: none;\n",
              "      fill: #1967D2;\n",
              "      height: 32px;\n",
              "      padding: 0 0 0 0;\n",
              "      width: 32px;\n",
              "    }\n",
              "\n",
              "    .colab-df-convert:hover {\n",
              "      background-color: #E2EBFA;\n",
              "      box-shadow: 0px 1px 2px rgba(60, 64, 67, 0.3), 0px 1px 3px 1px rgba(60, 64, 67, 0.15);\n",
              "      fill: #174EA6;\n",
              "    }\n",
              "\n",
              "    [theme=dark] .colab-df-convert {\n",
              "      background-color: #3B4455;\n",
              "      fill: #D2E3FC;\n",
              "    }\n",
              "\n",
              "    [theme=dark] .colab-df-convert:hover {\n",
              "      background-color: #434B5C;\n",
              "      box-shadow: 0px 1px 3px 1px rgba(0, 0, 0, 0.15);\n",
              "      filter: drop-shadow(0px 1px 2px rgba(0, 0, 0, 0.3));\n",
              "      fill: #FFFFFF;\n",
              "    }\n",
              "  </style>\n",
              "\n",
              "      <script>\n",
              "        const buttonEl =\n",
              "          document.querySelector('#df-8338748d-6257-4aa5-9dbe-010fec9b4123 button.colab-df-convert');\n",
              "        buttonEl.style.display =\n",
              "          google.colab.kernel.accessAllowed ? 'block' : 'none';\n",
              "\n",
              "        async function convertToInteractive(key) {\n",
              "          const element = document.querySelector('#df-8338748d-6257-4aa5-9dbe-010fec9b4123');\n",
              "          const dataTable =\n",
              "            await google.colab.kernel.invokeFunction('convertToInteractive',\n",
              "                                                     [key], {});\n",
              "          if (!dataTable) return;\n",
              "\n",
              "          const docLinkHtml = 'Like what you see? Visit the ' +\n",
              "            '<a target=\"_blank\" href=https://colab.research.google.com/notebooks/data_table.ipynb>data table notebook</a>'\n",
              "            + ' to learn more about interactive tables.';\n",
              "          element.innerHTML = '';\n",
              "          dataTable['output_type'] = 'display_data';\n",
              "          await google.colab.output.renderOutput(dataTable, element);\n",
              "          const docLink = document.createElement('div');\n",
              "          docLink.innerHTML = docLinkHtml;\n",
              "          element.appendChild(docLink);\n",
              "        }\n",
              "      </script>\n",
              "    </div>\n",
              "  </div>\n",
              "  "
            ]
          },
          "metadata": {},
          "execution_count": 25
        }
      ],
      "source": [
        "d = pd.DataFrame(columns=np.arange(1,8),index=['Vanilla KNN','Partial Distance','LSH'])\n",
        "d.iloc[0,:] = accuracy_knn\n",
        "d.iloc[1,:] = accuracy_pd\n",
        "d.iloc[2,:] = accuracy_lsh\n",
        "print('Comparision in terms of Accuracy')\n",
        "d.head()"
      ]
    },
    {
      "cell_type": "code",
      "execution_count": 26,
      "id": "3bf7ea04",
      "metadata": {
        "colab": {
          "base_uri": "https://localhost:8080/",
          "height": 161
        },
        "id": "3bf7ea04",
        "outputId": "88c33c07-5958-4826-a011-c666d01fdc34"
      },
      "outputs": [
        {
          "output_type": "stream",
          "name": "stdout",
          "text": [
            "Comparision in terms of Time\n"
          ]
        },
        {
          "output_type": "execute_result",
          "data": {
            "text/plain": [
              "                          1          2          3         4          5  \\\n",
              "Vanilla KNN         1.25079   1.707122   1.739809  2.098978   1.877764   \n",
              "Partial Distance  78.331132  74.073418  73.936682  74.38257  74.884179   \n",
              "LSH                0.710937    0.76998   0.676706  0.703429   0.693342   \n",
              "\n",
              "                          6          7  \n",
              "Vanilla KNN        1.874154   2.080858  \n",
              "Partial Distance  76.251585  77.082296  \n",
              "LSH                0.701654   0.695716  "
            ],
            "text/html": [
              "\n",
              "  <div id=\"df-7e6df008-81a6-45da-84fc-3ea7520bcf37\">\n",
              "    <div class=\"colab-df-container\">\n",
              "      <div>\n",
              "<style scoped>\n",
              "    .dataframe tbody tr th:only-of-type {\n",
              "        vertical-align: middle;\n",
              "    }\n",
              "\n",
              "    .dataframe tbody tr th {\n",
              "        vertical-align: top;\n",
              "    }\n",
              "\n",
              "    .dataframe thead th {\n",
              "        text-align: right;\n",
              "    }\n",
              "</style>\n",
              "<table border=\"1\" class=\"dataframe\">\n",
              "  <thead>\n",
              "    <tr style=\"text-align: right;\">\n",
              "      <th></th>\n",
              "      <th>1</th>\n",
              "      <th>2</th>\n",
              "      <th>3</th>\n",
              "      <th>4</th>\n",
              "      <th>5</th>\n",
              "      <th>6</th>\n",
              "      <th>7</th>\n",
              "    </tr>\n",
              "  </thead>\n",
              "  <tbody>\n",
              "    <tr>\n",
              "      <th>Vanilla KNN</th>\n",
              "      <td>1.25079</td>\n",
              "      <td>1.707122</td>\n",
              "      <td>1.739809</td>\n",
              "      <td>2.098978</td>\n",
              "      <td>1.877764</td>\n",
              "      <td>1.874154</td>\n",
              "      <td>2.080858</td>\n",
              "    </tr>\n",
              "    <tr>\n",
              "      <th>Partial Distance</th>\n",
              "      <td>78.331132</td>\n",
              "      <td>74.073418</td>\n",
              "      <td>73.936682</td>\n",
              "      <td>74.38257</td>\n",
              "      <td>74.884179</td>\n",
              "      <td>76.251585</td>\n",
              "      <td>77.082296</td>\n",
              "    </tr>\n",
              "    <tr>\n",
              "      <th>LSH</th>\n",
              "      <td>0.710937</td>\n",
              "      <td>0.76998</td>\n",
              "      <td>0.676706</td>\n",
              "      <td>0.703429</td>\n",
              "      <td>0.693342</td>\n",
              "      <td>0.701654</td>\n",
              "      <td>0.695716</td>\n",
              "    </tr>\n",
              "  </tbody>\n",
              "</table>\n",
              "</div>\n",
              "      <button class=\"colab-df-convert\" onclick=\"convertToInteractive('df-7e6df008-81a6-45da-84fc-3ea7520bcf37')\"\n",
              "              title=\"Convert this dataframe to an interactive table.\"\n",
              "              style=\"display:none;\">\n",
              "        \n",
              "  <svg xmlns=\"http://www.w3.org/2000/svg\" height=\"24px\"viewBox=\"0 0 24 24\"\n",
              "       width=\"24px\">\n",
              "    <path d=\"M0 0h24v24H0V0z\" fill=\"none\"/>\n",
              "    <path d=\"M18.56 5.44l.94 2.06.94-2.06 2.06-.94-2.06-.94-.94-2.06-.94 2.06-2.06.94zm-11 1L8.5 8.5l.94-2.06 2.06-.94-2.06-.94L8.5 2.5l-.94 2.06-2.06.94zm10 10l.94 2.06.94-2.06 2.06-.94-2.06-.94-.94-2.06-.94 2.06-2.06.94z\"/><path d=\"M17.41 7.96l-1.37-1.37c-.4-.4-.92-.59-1.43-.59-.52 0-1.04.2-1.43.59L10.3 9.45l-7.72 7.72c-.78.78-.78 2.05 0 2.83L4 21.41c.39.39.9.59 1.41.59.51 0 1.02-.2 1.41-.59l7.78-7.78 2.81-2.81c.8-.78.8-2.07 0-2.86zM5.41 20L4 18.59l7.72-7.72 1.47 1.35L5.41 20z\"/>\n",
              "  </svg>\n",
              "      </button>\n",
              "      \n",
              "  <style>\n",
              "    .colab-df-container {\n",
              "      display:flex;\n",
              "      flex-wrap:wrap;\n",
              "      gap: 12px;\n",
              "    }\n",
              "\n",
              "    .colab-df-convert {\n",
              "      background-color: #E8F0FE;\n",
              "      border: none;\n",
              "      border-radius: 50%;\n",
              "      cursor: pointer;\n",
              "      display: none;\n",
              "      fill: #1967D2;\n",
              "      height: 32px;\n",
              "      padding: 0 0 0 0;\n",
              "      width: 32px;\n",
              "    }\n",
              "\n",
              "    .colab-df-convert:hover {\n",
              "      background-color: #E2EBFA;\n",
              "      box-shadow: 0px 1px 2px rgba(60, 64, 67, 0.3), 0px 1px 3px 1px rgba(60, 64, 67, 0.15);\n",
              "      fill: #174EA6;\n",
              "    }\n",
              "\n",
              "    [theme=dark] .colab-df-convert {\n",
              "      background-color: #3B4455;\n",
              "      fill: #D2E3FC;\n",
              "    }\n",
              "\n",
              "    [theme=dark] .colab-df-convert:hover {\n",
              "      background-color: #434B5C;\n",
              "      box-shadow: 0px 1px 3px 1px rgba(0, 0, 0, 0.15);\n",
              "      filter: drop-shadow(0px 1px 2px rgba(0, 0, 0, 0.3));\n",
              "      fill: #FFFFFF;\n",
              "    }\n",
              "  </style>\n",
              "\n",
              "      <script>\n",
              "        const buttonEl =\n",
              "          document.querySelector('#df-7e6df008-81a6-45da-84fc-3ea7520bcf37 button.colab-df-convert');\n",
              "        buttonEl.style.display =\n",
              "          google.colab.kernel.accessAllowed ? 'block' : 'none';\n",
              "\n",
              "        async function convertToInteractive(key) {\n",
              "          const element = document.querySelector('#df-7e6df008-81a6-45da-84fc-3ea7520bcf37');\n",
              "          const dataTable =\n",
              "            await google.colab.kernel.invokeFunction('convertToInteractive',\n",
              "                                                     [key], {});\n",
              "          if (!dataTable) return;\n",
              "\n",
              "          const docLinkHtml = 'Like what you see? Visit the ' +\n",
              "            '<a target=\"_blank\" href=https://colab.research.google.com/notebooks/data_table.ipynb>data table notebook</a>'\n",
              "            + ' to learn more about interactive tables.';\n",
              "          element.innerHTML = '';\n",
              "          dataTable['output_type'] = 'display_data';\n",
              "          await google.colab.output.renderOutput(dataTable, element);\n",
              "          const docLink = document.createElement('div');\n",
              "          docLink.innerHTML = docLinkHtml;\n",
              "          element.appendChild(docLink);\n",
              "        }\n",
              "      </script>\n",
              "    </div>\n",
              "  </div>\n",
              "  "
            ]
          },
          "metadata": {},
          "execution_count": 26
        }
      ],
      "source": [
        "d = pd.DataFrame(columns=np.arange(1,8),index=['Vanilla KNN','Partial Distance','LSH'])\n",
        "d.iloc[0,:] = Time_knn\n",
        "d.iloc[1,:] = Time_pd\n",
        "d.iloc[2,:] = Time_lsh\n",
        "print('Comparision in terms of Time')\n",
        "d.head()"
      ]
    },
    {
      "cell_type": "code",
      "execution_count": 30,
      "id": "0958f599",
      "metadata": {
        "colab": {
          "base_uri": "https://localhost:8080/",
          "height": 230
        },
        "id": "0958f599",
        "outputId": "35557a3c-e83e-4a2e-8412-efa65328735f"
      },
      "outputs": [
        {
          "output_type": "stream",
          "name": "stderr",
          "text": [
            "/usr/local/lib/python3.8/dist-packages/numpy/lib/function_base.py:380: RuntimeWarning: Mean of empty slice.\n",
            "  avg = a.mean(axis)\n",
            "/usr/local/lib/python3.8/dist-packages/numpy/core/_methods.py:189: RuntimeWarning: invalid value encountered in double_scalars\n",
            "  ret = ret.dtype.type(ret / rcount)\n"
          ]
        },
        {
          "output_type": "stream",
          "name": "stdout",
          "text": [
            "Comparision in terms of Metric\n"
          ]
        },
        {
          "output_type": "execute_result",
          "data": {
            "text/plain": [
              "                 Cosine Euclidean CityBlock\n",
              "Vanilla KNN       0.835      0.76     0.745\n",
              "Partial Distance  0.695     0.735      0.74\n",
              "LSH                 0.8     0.745      0.73"
            ],
            "text/html": [
              "\n",
              "  <div id=\"df-2eed8392-abf6-4ec9-9b10-3fb43c364513\">\n",
              "    <div class=\"colab-df-container\">\n",
              "      <div>\n",
              "<style scoped>\n",
              "    .dataframe tbody tr th:only-of-type {\n",
              "        vertical-align: middle;\n",
              "    }\n",
              "\n",
              "    .dataframe tbody tr th {\n",
              "        vertical-align: top;\n",
              "    }\n",
              "\n",
              "    .dataframe thead th {\n",
              "        text-align: right;\n",
              "    }\n",
              "</style>\n",
              "<table border=\"1\" class=\"dataframe\">\n",
              "  <thead>\n",
              "    <tr style=\"text-align: right;\">\n",
              "      <th></th>\n",
              "      <th>Cosine</th>\n",
              "      <th>Euclidean</th>\n",
              "      <th>CityBlock</th>\n",
              "    </tr>\n",
              "  </thead>\n",
              "  <tbody>\n",
              "    <tr>\n",
              "      <th>Vanilla KNN</th>\n",
              "      <td>0.835</td>\n",
              "      <td>0.76</td>\n",
              "      <td>0.745</td>\n",
              "    </tr>\n",
              "    <tr>\n",
              "      <th>Partial Distance</th>\n",
              "      <td>0.695</td>\n",
              "      <td>0.735</td>\n",
              "      <td>0.74</td>\n",
              "    </tr>\n",
              "    <tr>\n",
              "      <th>LSH</th>\n",
              "      <td>0.8</td>\n",
              "      <td>0.745</td>\n",
              "      <td>0.73</td>\n",
              "    </tr>\n",
              "  </tbody>\n",
              "</table>\n",
              "</div>\n",
              "      <button class=\"colab-df-convert\" onclick=\"convertToInteractive('df-2eed8392-abf6-4ec9-9b10-3fb43c364513')\"\n",
              "              title=\"Convert this dataframe to an interactive table.\"\n",
              "              style=\"display:none;\">\n",
              "        \n",
              "  <svg xmlns=\"http://www.w3.org/2000/svg\" height=\"24px\"viewBox=\"0 0 24 24\"\n",
              "       width=\"24px\">\n",
              "    <path d=\"M0 0h24v24H0V0z\" fill=\"none\"/>\n",
              "    <path d=\"M18.56 5.44l.94 2.06.94-2.06 2.06-.94-2.06-.94-.94-2.06-.94 2.06-2.06.94zm-11 1L8.5 8.5l.94-2.06 2.06-.94-2.06-.94L8.5 2.5l-.94 2.06-2.06.94zm10 10l.94 2.06.94-2.06 2.06-.94-2.06-.94-.94-2.06-.94 2.06-2.06.94z\"/><path d=\"M17.41 7.96l-1.37-1.37c-.4-.4-.92-.59-1.43-.59-.52 0-1.04.2-1.43.59L10.3 9.45l-7.72 7.72c-.78.78-.78 2.05 0 2.83L4 21.41c.39.39.9.59 1.41.59.51 0 1.02-.2 1.41-.59l7.78-7.78 2.81-2.81c.8-.78.8-2.07 0-2.86zM5.41 20L4 18.59l7.72-7.72 1.47 1.35L5.41 20z\"/>\n",
              "  </svg>\n",
              "      </button>\n",
              "      \n",
              "  <style>\n",
              "    .colab-df-container {\n",
              "      display:flex;\n",
              "      flex-wrap:wrap;\n",
              "      gap: 12px;\n",
              "    }\n",
              "\n",
              "    .colab-df-convert {\n",
              "      background-color: #E8F0FE;\n",
              "      border: none;\n",
              "      border-radius: 50%;\n",
              "      cursor: pointer;\n",
              "      display: none;\n",
              "      fill: #1967D2;\n",
              "      height: 32px;\n",
              "      padding: 0 0 0 0;\n",
              "      width: 32px;\n",
              "    }\n",
              "\n",
              "    .colab-df-convert:hover {\n",
              "      background-color: #E2EBFA;\n",
              "      box-shadow: 0px 1px 2px rgba(60, 64, 67, 0.3), 0px 1px 3px 1px rgba(60, 64, 67, 0.15);\n",
              "      fill: #174EA6;\n",
              "    }\n",
              "\n",
              "    [theme=dark] .colab-df-convert {\n",
              "      background-color: #3B4455;\n",
              "      fill: #D2E3FC;\n",
              "    }\n",
              "\n",
              "    [theme=dark] .colab-df-convert:hover {\n",
              "      background-color: #434B5C;\n",
              "      box-shadow: 0px 1px 3px 1px rgba(0, 0, 0, 0.15);\n",
              "      filter: drop-shadow(0px 1px 2px rgba(0, 0, 0, 0.3));\n",
              "      fill: #FFFFFF;\n",
              "    }\n",
              "  </style>\n",
              "\n",
              "      <script>\n",
              "        const buttonEl =\n",
              "          document.querySelector('#df-2eed8392-abf6-4ec9-9b10-3fb43c364513 button.colab-df-convert');\n",
              "        buttonEl.style.display =\n",
              "          google.colab.kernel.accessAllowed ? 'block' : 'none';\n",
              "\n",
              "        async function convertToInteractive(key) {\n",
              "          const element = document.querySelector('#df-2eed8392-abf6-4ec9-9b10-3fb43c364513');\n",
              "          const dataTable =\n",
              "            await google.colab.kernel.invokeFunction('convertToInteractive',\n",
              "                                                     [key], {});\n",
              "          if (!dataTable) return;\n",
              "\n",
              "          const docLinkHtml = 'Like what you see? Visit the ' +\n",
              "            '<a target=\"_blank\" href=https://colab.research.google.com/notebooks/data_table.ipynb>data table notebook</a>'\n",
              "            + ' to learn more about interactive tables.';\n",
              "          element.innerHTML = '';\n",
              "          dataTable['output_type'] = 'display_data';\n",
              "          await google.colab.output.renderOutput(dataTable, element);\n",
              "          const docLink = document.createElement('div');\n",
              "          docLink.innerHTML = docLinkHtml;\n",
              "          element.appendChild(docLink);\n",
              "        }\n",
              "      </script>\n",
              "    </div>\n",
              "  </div>\n",
              "  "
            ]
          },
          "metadata": {},
          "execution_count": 30
        }
      ],
      "source": [
        "distances = [dist.cosine, dist.euclidean, dist.cityblock]\n",
        "d = pd.DataFrame(index=['Vanilla KNN','Partial Distance','LSH'],columns=['Cosine','Euclidean','CityBlock'])\n",
        "\n",
        "for i,dt in enumerate(distances):\n",
        "    \n",
        "    #vanilla Knn\n",
        "    vanilla = KNN(X_train_scaled,y_train,2,dt)\n",
        "    p = vanilla.predict(X_test_scaled)\n",
        "    d.iloc[0,i] = accuracy_score(y_test,p)\n",
        "    \n",
        "    #partial distance knn\n",
        "    par_d = KNN(X_train_scaled,y_train,2,dt)\n",
        "    p = par_d.predict_partial_distance(X_test_scaled)\n",
        "    d.iloc[1,i] = accuracy_score(y_test,p)\n",
        "    \n",
        "    #LSH\n",
        "    lsh = LSH(X_train_scaled,y_train,2,10,100,dt)\n",
        "    lsh.fit()\n",
        "    p = lsh.predict(X_test_scaled)\n",
        "    d.iloc[2,i] = accuracy_score(y_test,p)\n",
        "\n",
        "print('Comparision in terms of Metric')\n",
        "d.head()"
      ]
    },
    {
      "cell_type": "markdown",
      "id": "f3bf550f",
      "metadata": {
        "id": "f3bf550f"
      },
      "source": [
        "**Question:** How is the NN algorithm different from the algorithms we have studied so far?\n",
        "\n",
        "**Answer:** They are different in a way that they are very simple yet effective. They do not have any parameters and therefore no learning is involved. They can be used for both classification and regression tasks and give decent enough performance. The only drawback is their computation speed and memory requirements. Since they memorize whole data so take large space depending on the size of data and computation is often expensive because of large number of comparisions to be made."
      ]
    },
    {
      "cell_type": "code",
      "execution_count": 21,
      "id": "1558baf8",
      "metadata": {
        "id": "1558baf8"
      },
      "outputs": [],
      "source": []
    }
  ],
  "metadata": {
    "kernelspec": {
      "display_name": "Python 3 (ipykernel)",
      "language": "python",
      "name": "python3"
    },
    "language_info": {
      "codemirror_mode": {
        "name": "ipython",
        "version": 3
      },
      "file_extension": ".py",
      "mimetype": "text/x-python",
      "name": "python",
      "nbconvert_exporter": "python",
      "pygments_lexer": "ipython3",
      "version": "3.9.13"
    },
    "colab": {
      "provenance": []
    }
  },
  "nbformat": 4,
  "nbformat_minor": 5
}