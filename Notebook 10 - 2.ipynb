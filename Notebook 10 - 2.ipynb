{
 "cells": [
  {
   "cell_type": "code",
   "execution_count": 7,
   "metadata": {
    "colab": {
     "base_uri": "https://localhost:8080/"
    },
    "id": "VHD2kKNEpB7T",
    "outputId": "2f852d85-f5d3-46c2-e094-efba479aefb6"
   },
   "outputs": [
    {
     "name": "stdout",
     "output_type": "stream",
     "text": [
      "Looking in indexes: https://pypi.org/simple, https://us-python.pkg.dev/colab-wheels/public/simple/\n",
      "Requirement already satisfied: optuna in /usr/local/lib/python3.8/dist-packages (3.1.0)\n",
      "Requirement already satisfied: alembic>=1.5.0 in /usr/local/lib/python3.8/dist-packages (from optuna) (1.9.2)\n",
      "Requirement already satisfied: tqdm in /usr/local/lib/python3.8/dist-packages (from optuna) (4.64.1)\n",
      "Requirement already satisfied: sqlalchemy>=1.3.0 in /usr/local/lib/python3.8/dist-packages (from optuna) (1.4.46)\n",
      "Requirement already satisfied: PyYAML in /usr/local/lib/python3.8/dist-packages (from optuna) (6.0)\n",
      "Requirement already satisfied: colorlog in /usr/local/lib/python3.8/dist-packages (from optuna) (6.7.0)\n",
      "Requirement already satisfied: numpy in /usr/local/lib/python3.8/dist-packages (from optuna) (1.21.6)\n",
      "Requirement already satisfied: cmaes>=0.9.1 in /usr/local/lib/python3.8/dist-packages (from optuna) (0.9.1)\n",
      "Requirement already satisfied: packaging>=20.0 in /usr/local/lib/python3.8/dist-packages (from optuna) (21.3)\n",
      "Requirement already satisfied: importlib-resources in /usr/local/lib/python3.8/dist-packages (from alembic>=1.5.0->optuna) (5.10.2)\n",
      "Requirement already satisfied: Mako in /usr/local/lib/python3.8/dist-packages (from alembic>=1.5.0->optuna) (1.2.4)\n",
      "Requirement already satisfied: importlib-metadata in /usr/local/lib/python3.8/dist-packages (from alembic>=1.5.0->optuna) (6.0.0)\n",
      "Requirement already satisfied: pyparsing!=3.0.5,>=2.0.2 in /usr/local/lib/python3.8/dist-packages (from packaging>=20.0->optuna) (3.0.9)\n",
      "Requirement already satisfied: greenlet!=0.4.17 in /usr/local/lib/python3.8/dist-packages (from sqlalchemy>=1.3.0->optuna) (2.0.1)\n",
      "Requirement already satisfied: zipp>=0.5 in /usr/local/lib/python3.8/dist-packages (from importlib-metadata->alembic>=1.5.0->optuna) (3.11.0)\n",
      "Requirement already satisfied: MarkupSafe>=0.9.2 in /usr/local/lib/python3.8/dist-packages (from Mako->alembic>=1.5.0->optuna) (2.0.1)\n"
     ]
    }
   ],
   "source": [
    "!pip install optuna\n",
    "import optuna\n",
    "from sklearn.svm import SVC\n",
    "from sklearn.model_selection import train_test_split\n",
    "import pandas as pd\n",
    "import numpy as np\n",
    "from sklearn.metrics import accuracy_score\n",
    "from sklearn.preprocessing import StandardScaler"
   ]
  },
  {
   "cell_type": "code",
   "execution_count": 3,
   "metadata": {
    "id": "1BRHZtvMps5Y"
   },
   "outputs": [],
   "source": [
    "df = pd.read_csv(\"/content/smart_grid_stability_augmented.csv\")"
   ]
  },
  {
   "cell_type": "code",
   "execution_count": 4,
   "metadata": {
    "id": "q7ZKA9rSqAqU"
   },
   "outputs": [],
   "source": [
    "X = df.iloc[:,:-1]\n",
    "y = df.iloc[:,-1]\n",
    "y = np.where(y==\"stable\",1,-1)"
   ]
  },
  {
   "cell_type": "code",
   "execution_count": 5,
   "metadata": {
    "id": "v1xixtjMqNSj"
   },
   "outputs": [],
   "source": [
    "X_train, X_test, y_train, y_test = train_test_split(X, y, test_size=0.2, random_state=42, stratify=y)"
   ]
  },
  {
   "cell_type": "code",
   "execution_count": 8,
   "metadata": {
    "id": "Y-2eXrpv3vIS"
   },
   "outputs": [],
   "source": [
    "scalar = StandardScaler()\n",
    "X_train = scalar.fit_transform(X_train)\n",
    "X_test = scalar.transform(X_test)"
   ]
  },
  {
   "cell_type": "code",
   "execution_count": 9,
   "metadata": {
    "colab": {
     "base_uri": "https://localhost:8080/"
    },
    "id": "t-7HA-GkpOvK",
    "outputId": "b84162c0-43fe-43b0-e648-7275a6d43292"
   },
   "outputs": [
    {
     "name": "stderr",
     "output_type": "stream",
     "text": [
      "\u001b[32m[I 2023-01-29 00:14:52,211]\u001b[0m A new study created in memory with name: no-name-28c4e3d9-2550-46f4-ab5a-5f89d7b1fa28\u001b[0m\n",
      "\u001b[32m[I 2023-01-29 00:18:05,591]\u001b[0m Trial 0 finished with value: 0.9253333333333333 and parameters: {'C': -3.0929327693048387, 'kernel': 'sigmoid', 'degree': 4, 'gamma': -1.1271318914313566, 'coef0': 1}. Best is trial 0 with value: 0.9253333333333333.\u001b[0m\n",
      "\u001b[32m[I 2023-01-29 00:18:35,619]\u001b[0m Trial 1 finished with value: 0.9945833333333334 and parameters: {'C': 2.812625685806032, 'kernel': 'sigmoid', 'degree': 5, 'gamma': -2.8553370577754875, 'coef0': 3}. Best is trial 1 with value: 0.9945833333333334.\u001b[0m\n",
      "\u001b[32m[I 2023-01-29 00:21:34,153]\u001b[0m Trial 2 finished with value: 0.8953333333333333 and parameters: {'C': 0.9356122032145082, 'kernel': 'sigmoid', 'degree': 2, 'gamma': -3.591175006407742, 'coef0': 3}. Best is trial 1 with value: 0.9945833333333334.\u001b[0m\n",
      "\u001b[32m[I 2023-01-29 00:22:51,996]\u001b[0m Trial 3 finished with value: 0.9773333333333334 and parameters: {'C': 0.28262418459799044, 'kernel': 'sigmoid', 'degree': 5, 'gamma': -2.491847778547097, 'coef0': 2}. Best is trial 1 with value: 0.9945833333333334.\u001b[0m\n",
      "\u001b[32m[I 2023-01-29 00:24:39,035]\u001b[0m Trial 4 finished with value: 0.69825 and parameters: {'C': 3.055066608303373, 'kernel': 'sigmoid', 'degree': 5, 'gamma': -0.5216915263852071, 'coef0': 3}. Best is trial 1 with value: 0.9945833333333334.\u001b[0m\n",
      "\u001b[32m[I 2023-01-29 00:24:41,329]\u001b[0m Trial 5 finished with value: 0.99875 and parameters: {'C': 0.7319684056463087, 'kernel': 'linear', 'degree': 3, 'gamma': -1.4223099233543777, 'coef0': 4}. Best is trial 5 with value: 0.99875.\u001b[0m\n",
      "\u001b[32m[I 2023-01-29 00:25:05,573]\u001b[0m Trial 6 finished with value: 0.9143333333333333 and parameters: {'C': 1.9966702074332146, 'kernel': 'sigmoid', 'degree': 2, 'gamma': -1.8984366159921633, 'coef0': 2}. Best is trial 5 with value: 0.99875.\u001b[0m\n",
      "\u001b[32m[I 2023-01-29 00:25:22,032]\u001b[0m Trial 7 finished with value: 0.9948333333333333 and parameters: {'C': 0.5913466466991153, 'kernel': 'rbf', 'degree': 5, 'gamma': -2.7224109632767703, 'coef0': 4}. Best is trial 5 with value: 0.99875.\u001b[0m\n",
      "\u001b[32m[I 2023-01-29 00:25:43,780]\u001b[0m Trial 8 finished with value: 0.9869166666666667 and parameters: {'C': -2.783816210915888, 'kernel': 'linear', 'degree': 5, 'gamma': -1.1620274959445984, 'coef0': 3}. Best is trial 5 with value: 0.99875.\u001b[0m\n",
      "\u001b[32m[I 2023-01-29 00:27:14,260]\u001b[0m Trial 9 finished with value: 0.9473333333333334 and parameters: {'C': -2.5843722350849303, 'kernel': 'rbf', 'degree': 2, 'gamma': -1.8426120634707077, 'coef0': 3}. Best is trial 5 with value: 0.99875.\u001b[0m\n",
      "\u001b[32m[I 2023-01-29 00:27:42,268]\u001b[0m Trial 10 finished with value: 0.9988333333333334 and parameters: {'C': -1.034132354677894, 'kernel': 'poly', 'degree': 3, 'gamma': 0.9062856168697677, 'coef0': 4}. Best is trial 10 with value: 0.9988333333333334.\u001b[0m\n",
      "\u001b[32m[I 2023-01-29 00:28:09,550]\u001b[0m Trial 11 finished with value: 0.99875 and parameters: {'C': -1.1090403944836873, 'kernel': 'poly', 'degree': 3, 'gamma': 0.9521240713336097, 'coef0': 4}. Best is trial 10 with value: 0.9988333333333334.\u001b[0m\n",
      "\u001b[32m[I 2023-01-29 00:28:35,201]\u001b[0m Trial 12 finished with value: 0.9989166666666667 and parameters: {'C': -0.9017328924804486, 'kernel': 'poly', 'degree': 3, 'gamma': 0.8572068180406844, 'coef0': 4}. Best is trial 12 with value: 0.9989166666666667.\u001b[0m\n",
      "\u001b[32m[I 2023-01-29 00:29:01,887]\u001b[0m Trial 13 finished with value: 0.9988333333333334 and parameters: {'C': -1.1081717002704503, 'kernel': 'poly', 'degree': 3, 'gamma': 0.9194611175894518, 'coef0': 4}. Best is trial 12 with value: 0.9989166666666667.\u001b[0m\n",
      "\u001b[32m[I 2023-01-29 00:29:16,996]\u001b[0m Trial 14 finished with value: 0.99225 and parameters: {'C': -1.2960302777742425, 'kernel': 'poly', 'degree': 4, 'gamma': 0.23380905804811525, 'coef0': 4}. Best is trial 12 with value: 0.9989166666666667.\u001b[0m\n",
      "\u001b[32m[I 2023-01-29 00:29:44,135]\u001b[0m Trial 15 finished with value: 0.9983333333333333 and parameters: {'C': -0.7018411023032496, 'kernel': 'poly', 'degree': 3, 'gamma': 0.1815265084279798, 'coef0': 1}. Best is trial 12 with value: 0.9989166666666667.\u001b[0m\n",
      "\u001b[32m[I 2023-01-29 00:29:53,527]\u001b[0m Trial 16 finished with value: 0.9925 and parameters: {'C': -3.8558769070716377, 'kernel': 'poly', 'degree': 4, 'gamma': 0.038114180322983415, 'coef0': 4}. Best is trial 12 with value: 0.9989166666666667.\u001b[0m\n",
      "\u001b[32m[I 2023-01-29 00:30:26,401]\u001b[0m Trial 17 finished with value: 0.9986666666666667 and parameters: {'C': -1.815643105469916, 'kernel': 'poly', 'degree': 3, 'gamma': 0.9939328492495487, 'coef0': 2}. Best is trial 12 with value: 0.9989166666666667.\u001b[0m\n",
      "\u001b[32m[I 2023-01-29 00:30:31,273]\u001b[0m Trial 18 finished with value: 0.9970833333333333 and parameters: {'C': -0.5523299949007481, 'kernel': 'poly', 'degree': 4, 'gamma': -0.6514534417628914, 'coef0': 4}. Best is trial 12 with value: 0.9989166666666667.\u001b[0m\n",
      "\u001b[32m[I 2023-01-29 00:30:41,116]\u001b[0m Trial 19 finished with value: 0.99875 and parameters: {'C': -0.2612085554914574, 'kernel': 'poly', 'degree': 2, 'gamma': 0.4115253124814247, 'coef0': 3}. Best is trial 12 with value: 0.9989166666666667.\u001b[0m\n",
      "\u001b[32m[I 2023-01-29 00:32:51,548]\u001b[0m Trial 20 finished with value: 0.638 and parameters: {'C': -1.8791769110364749, 'kernel': 'rbf', 'degree': 3, 'gamma': -0.2585987589052172, 'coef0': 4}. Best is trial 12 with value: 0.9989166666666667.\u001b[0m\n",
      "\u001b[32m[I 2023-01-29 00:33:16,380]\u001b[0m Trial 21 finished with value: 0.9985833333333334 and parameters: {'C': -1.5599617889095336, 'kernel': 'poly', 'degree': 3, 'gamma': 0.5563330108471689, 'coef0': 4}. Best is trial 12 with value: 0.9989166666666667.\u001b[0m\n",
      "\u001b[32m[I 2023-01-29 00:33:36,744]\u001b[0m Trial 22 finished with value: 0.99875 and parameters: {'C': -0.15248406157092143, 'kernel': 'poly', 'degree': 3, 'gamma': 0.7292763005426426, 'coef0': 4}. Best is trial 12 with value: 0.9989166666666667.\u001b[0m\n",
      "\u001b[32m[I 2023-01-29 00:33:55,087]\u001b[0m Trial 23 finished with value: 0.9989166666666667 and parameters: {'C': -0.848767299066308, 'kernel': 'poly', 'degree': 3, 'gamma': 0.6848054314750911, 'coef0': 4}. Best is trial 12 with value: 0.9989166666666667.\u001b[0m\n",
      "\u001b[32m[I 2023-01-29 00:33:59,025]\u001b[0m Trial 24 finished with value: 0.9975833333333334 and parameters: {'C': -0.6116070043605458, 'kernel': 'linear', 'degree': 4, 'gamma': 0.47599037665593613, 'coef0': 3}. Best is trial 12 with value: 0.9989166666666667.\u001b[0m\n",
      "\u001b[32m[I 2023-01-29 00:34:03,657]\u001b[0m Trial 25 finished with value: 0.9988333333333334 and parameters: {'C': 0.05452979571339489, 'kernel': 'poly', 'degree': 2, 'gamma': -0.0909321551302269, 'coef0': 4}. Best is trial 12 with value: 0.9989166666666667.\u001b[0m\n",
      "\u001b[32m[I 2023-01-29 00:34:20,808]\u001b[0m Trial 26 finished with value: 0.99875 and parameters: {'C': -2.042024909698508, 'kernel': 'poly', 'degree': 3, 'gamma': 0.5033422377161091, 'coef0': 3}. Best is trial 12 with value: 0.9989166666666667.\u001b[0m\n",
      "\u001b[32m[I 2023-01-29 00:34:46,591]\u001b[0m Trial 27 finished with value: 0.9904166666666666 and parameters: {'C': 1.1336182677358981, 'kernel': 'poly', 'degree': 4, 'gamma': 0.639518219038829, 'coef0': 4}. Best is trial 12 with value: 0.9989166666666667.\u001b[0m\n",
      "\u001b[32m[I 2023-01-29 00:34:54,055]\u001b[0m Trial 28 finished with value: 0.99675 and parameters: {'C': -0.8486029920651237, 'kernel': 'poly', 'degree': 3, 'gamma': -0.2646710246576347, 'coef0': 2}. Best is trial 12 with value: 0.9989166666666667.\u001b[0m\n",
      "\u001b[32m[I 2023-01-29 00:39:24,965]\u001b[0m Trial 29 finished with value: 0.638 and parameters: {'C': -1.3595088698022308, 'kernel': 'rbf', 'degree': 2, 'gamma': 0.13184971821347968, 'coef0': 1}. Best is trial 12 with value: 0.9989166666666667.\u001b[0m\n",
      "\u001b[32m[I 2023-01-29 00:39:41,139]\u001b[0m Trial 30 finished with value: 0.99175 and parameters: {'C': -2.3813873280456734, 'kernel': 'linear', 'degree': 3, 'gamma': 0.9923804027901415, 'coef0': 4}. Best is trial 12 with value: 0.9989166666666667.\u001b[0m\n",
      "\u001b[32m[I 2023-01-29 00:40:01,549]\u001b[0m Trial 31 finished with value: 0.9988333333333334 and parameters: {'C': -1.3158868617870039, 'kernel': 'poly', 'degree': 3, 'gamma': 0.7212868117934927, 'coef0': 4}. Best is trial 12 with value: 0.9989166666666667.\u001b[0m\n",
      "\u001b[32m[I 2023-01-29 00:40:21,302]\u001b[0m Trial 32 finished with value: 0.9980833333333333 and parameters: {'C': -0.9635217612535165, 'kernel': 'poly', 'degree': 3, 'gamma': 0.2975454596454691, 'coef0': 4}. Best is trial 12 with value: 0.9989166666666667.\u001b[0m\n",
      "\u001b[32m[I 2023-01-29 00:40:44,424]\u001b[0m Trial 33 finished with value: 0.9989166666666667 and parameters: {'C': -0.34346469951849, 'kernel': 'poly', 'degree': 3, 'gamma': 0.7903566621085751, 'coef0': 4}. Best is trial 12 with value: 0.9989166666666667.\u001b[0m\n",
      "\u001b[32m[I 2023-01-29 00:41:11,033]\u001b[0m Trial 34 finished with value: 0.9899166666666667 and parameters: {'C': -0.2667051917529736, 'kernel': 'poly', 'degree': 4, 'gamma': 0.6435165165939077, 'coef0': 3}. Best is trial 12 with value: 0.9989166666666667.\u001b[0m\n",
      "\u001b[32m[I 2023-01-29 00:42:44,817]\u001b[0m Trial 35 finished with value: 0.7188333333333333 and parameters: {'C': 0.27321694052840884, 'kernel': 'sigmoid', 'degree': 2, 'gamma': -0.6986330447673283, 'coef0': 4}. Best is trial 12 with value: 0.9989166666666667.\u001b[0m\n",
      "\u001b[32m[I 2023-01-29 00:43:06,359]\u001b[0m Trial 36 finished with value: 0.9989166666666667 and parameters: {'C': -0.4644394030755265, 'kernel': 'poly', 'degree': 3, 'gamma': 0.3303853034764809, 'coef0': 3}. Best is trial 12 with value: 0.9989166666666667.\u001b[0m\n",
      "\u001b[32m[I 2023-01-29 00:44:17,349]\u001b[0m Trial 37 finished with value: 0.7769166666666667 and parameters: {'C': 0.19650574907948742, 'kernel': 'sigmoid', 'degree': 3, 'gamma': -0.10151732858106377, 'coef0': 3}. Best is trial 12 with value: 0.9989166666666667.\u001b[0m\n",
      "\u001b[32m[I 2023-01-29 00:44:35,682]\u001b[0m Trial 38 finished with value: 0.9913333333333333 and parameters: {'C': 1.4189283300724158, 'kernel': 'poly', 'degree': 4, 'gamma': 0.31310919671863047, 'coef0': 3}. Best is trial 12 with value: 0.9989166666666667.\u001b[0m\n",
      "\u001b[32m[I 2023-01-29 00:44:39,173]\u001b[0m Trial 39 finished with value: 0.99825 and parameters: {'C': -0.4085362584662232, 'kernel': 'linear', 'degree': 2, 'gamma': 0.4317649682830656, 'coef0': 2}. Best is trial 12 with value: 0.9989166666666667.\u001b[0m\n",
      "\u001b[32m[I 2023-01-29 00:46:05,364]\u001b[0m Trial 40 finished with value: 0.9848333333333333 and parameters: {'C': 0.6096477905436137, 'kernel': 'rbf', 'degree': 3, 'gamma': -0.4849945990637079, 'coef0': 3}. Best is trial 12 with value: 0.9989166666666667.\u001b[0m\n",
      "\u001b[32m[I 2023-01-29 00:46:29,382]\u001b[0m Trial 41 finished with value: 0.9989166666666667 and parameters: {'C': -0.7718199903984262, 'kernel': 'poly', 'degree': 3, 'gamma': 0.8079167582089344, 'coef0': 4}. Best is trial 12 with value: 0.9989166666666667.\u001b[0m\n",
      "\u001b[32m[I 2023-01-29 00:46:57,667]\u001b[0m Trial 42 finished with value: 0.9988333333333334 and parameters: {'C': -0.004381161386478871, 'kernel': 'poly', 'degree': 3, 'gamma': 0.6005834166461851, 'coef0': 4}. Best is trial 12 with value: 0.9989166666666667.\u001b[0m\n",
      "\u001b[32m[I 2023-01-29 00:47:19,379]\u001b[0m Trial 43 finished with value: 0.9988333333333334 and parameters: {'C': -0.8811294143445777, 'kernel': 'poly', 'degree': 3, 'gamma': 0.7577009892343239, 'coef0': 4}. Best is trial 12 with value: 0.9989166666666667.\u001b[0m\n",
      "\u001b[32m[I 2023-01-29 00:47:36,287]\u001b[0m Trial 44 finished with value: 0.99825 and parameters: {'C': -0.5185771092041854, 'kernel': 'poly', 'degree': 3, 'gamma': 0.14201569194354902, 'coef0': 4}. Best is trial 12 with value: 0.9989166666666667.\u001b[0m\n",
      "\u001b[32m[I 2023-01-29 00:48:33,042]\u001b[0m Trial 45 finished with value: 0.8388333333333333 and parameters: {'C': 0.41818436467809167, 'kernel': 'sigmoid', 'degree': 3, 'gamma': 0.8000458498243047, 'coef0': 3}. Best is trial 12 with value: 0.9989166666666667.\u001b[0m\n",
      "\u001b[32m[I 2023-01-29 00:48:52,371]\u001b[0m Trial 46 finished with value: 0.9984166666666666 and parameters: {'C': -1.4719454015322597, 'kernel': 'poly', 'degree': 3, 'gamma': 0.37831291842891196, 'coef0': 4}. Best is trial 12 with value: 0.9989166666666667.\u001b[0m\n",
      "\u001b[32m[I 2023-01-29 00:49:34,016]\u001b[0m Trial 47 finished with value: 0.9995833333333334 and parameters: {'C': -0.01972321239857544, 'kernel': 'poly', 'degree': 2, 'gamma': 0.8732848623501065, 'coef0': 4}. Best is trial 47 with value: 0.9995833333333334.\u001b[0m\n",
      "\u001b[32m[I 2023-01-29 00:50:50,093]\u001b[0m Trial 48 finished with value: 0.9995833333333334 and parameters: {'C': -0.0683832338715496, 'kernel': 'poly', 'degree': 2, 'gamma': 0.9749801852654971, 'coef0': 3}. Best is trial 47 with value: 0.9995833333333334.\u001b[0m\n",
      "\u001b[32m[I 2023-01-29 00:50:52,449]\u001b[0m Trial 49 finished with value: 0.99875 and parameters: {'C': 0.7095721809647935, 'kernel': 'linear', 'degree': 2, 'gamma': 0.9434120013594612, 'coef0': 4}. Best is trial 47 with value: 0.9995833333333334.\u001b[0m\n"
     ]
    }
   ],
   "source": [
    "def objective(trial, X=X_train, y=y_train, test_x = X_test, test_y = y_test):\n",
    "\n",
    "    C = 10**trial.suggest_float(\"C\", -4, 4)\n",
    "    kernel = trial.suggest_categorical(\"kernel\", [\"linear\", \"poly\", \"rbf\", \"sigmoid\"])\n",
    "    degree = trial.suggest_int(\"degree\", 2, 5)\n",
    "    gamma = 10**trial.suggest_float(\"gamma\", -4, 1)\n",
    "    coef0 = trial.suggest_int(\"coef0\", 1, 4)\n",
    "\n",
    "\n",
    "    mod = SVC(C=C,\n",
    "             kernel=kernel,\n",
    "             degree=degree,\n",
    "             gamma=gamma,\n",
    "             coef0=coef0,\n",
    "        )\n",
    "\n",
    "    mod.fit(X,y)\n",
    "    accuracy = accuracy_score(test_y,mod.predict(test_x))\n",
    "    return accuracy\n",
    "\n",
    "\n",
    "study = optuna.create_study(direction=\"maximize\")\n",
    "study.optimize(objective, n_trials=50)"
   ]
  },
  {
   "cell_type": "code",
   "execution_count": 10,
   "metadata": {
    "colab": {
     "base_uri": "https://localhost:8080/"
    },
    "id": "VP1wwiTZtKIN",
    "outputId": "bb1d7b59-eef2-4595-fe24-338e6b6b04e4"
   },
   "outputs": [
    {
     "name": "stdout",
     "output_type": "stream",
     "text": [
      "Accuracy: 0.9995833333333334\n",
      "Best hyperparameters: {'C': -0.01972321239857544, 'kernel': 'poly', 'degree': 2, 'gamma': 0.8732848623501065, 'coef0': 4}\n"
     ]
    }
   ],
   "source": [
    "trial = study.best_trial\n",
    "print('Accuracy: {}'.format(trial.value))\n",
    "print(\"Best hyperparameters: {}\".format(trial.params))"
   ]
  },
  {
   "cell_type": "code",
   "execution_count": 11,
   "metadata": {
    "colab": {
     "base_uri": "https://localhost:8080/",
     "height": 542
    },
    "id": "L2cJf43QxvRl",
    "outputId": "763e4723-458d-4360-dcdb-a198d8d9aedf"
   },
   "outputs": [
    {
     "data": {
      "text/html": [
       "<html>\n",
       "<head><meta charset=\"utf-8\" /></head>\n",
       "<body>\n",
       "    <div>            <script src=\"https://cdnjs.cloudflare.com/ajax/libs/mathjax/2.7.5/MathJax.js?config=TeX-AMS-MML_SVG\"></script><script type=\"text/javascript\">if (window.MathJax) {MathJax.Hub.Config({SVG: {font: \"STIX-Web\"}});}</script>                <script type=\"text/javascript\">window.PlotlyConfig = {MathJaxConfig: 'local'};</script>\n",
       "        <script src=\"https://cdn.plot.ly/plotly-2.8.3.min.js\"></script>                <div id=\"b820c321-437b-4d3c-a484-efe7136f9127\" class=\"plotly-graph-div\" style=\"height:525px; width:100%;\"></div>            <script type=\"text/javascript\">                                    window.PLOTLYENV=window.PLOTLYENV || {};                                    if (document.getElementById(\"b820c321-437b-4d3c-a484-efe7136f9127\")) {                    Plotly.newPlot(                        \"b820c321-437b-4d3c-a484-efe7136f9127\",                        [{\"mode\":\"markers\",\"name\":\"Objective Value\",\"x\":[0,1,2,3,4,5,6,7,8,9,10,11,12,13,14,15,16,17,18,19,20,21,22,23,24,25,26,27,28,29,30,31,32,33,34,35,36,37,38,39,40,41,42,43,44,45,46,47,48,49],\"y\":[0.9253333333333333,0.9945833333333334,0.8953333333333333,0.9773333333333334,0.69825,0.99875,0.9143333333333333,0.9948333333333333,0.9869166666666667,0.9473333333333334,0.9988333333333334,0.99875,0.9989166666666667,0.9988333333333334,0.99225,0.9983333333333333,0.9925,0.9986666666666667,0.9970833333333333,0.99875,0.638,0.9985833333333334,0.99875,0.9989166666666667,0.9975833333333334,0.9988333333333334,0.99875,0.9904166666666666,0.99675,0.638,0.99175,0.9988333333333334,0.9980833333333333,0.9989166666666667,0.9899166666666667,0.7188333333333333,0.9989166666666667,0.7769166666666667,0.9913333333333333,0.99825,0.9848333333333333,0.9989166666666667,0.9988333333333334,0.9988333333333334,0.99825,0.8388333333333333,0.9984166666666666,0.9995833333333334,0.9995833333333334,0.99875],\"type\":\"scatter\"},{\"name\":\"Best Value\",\"x\":[0,1,2,3,4,5,6,7,8,9,10,11,12,13,14,15,16,17,18,19,20,21,22,23,24,25,26,27,28,29,30,31,32,33,34,35,36,37,38,39,40,41,42,43,44,45,46,47,48,49],\"y\":[0.9253333333333333,0.9945833333333334,0.9945833333333334,0.9945833333333334,0.9945833333333334,0.99875,0.99875,0.99875,0.99875,0.99875,0.9988333333333334,0.9988333333333334,0.9989166666666667,0.9989166666666667,0.9989166666666667,0.9989166666666667,0.9989166666666667,0.9989166666666667,0.9989166666666667,0.9989166666666667,0.9989166666666667,0.9989166666666667,0.9989166666666667,0.9989166666666667,0.9989166666666667,0.9989166666666667,0.9989166666666667,0.9989166666666667,0.9989166666666667,0.9989166666666667,0.9989166666666667,0.9989166666666667,0.9989166666666667,0.9989166666666667,0.9989166666666667,0.9989166666666667,0.9989166666666667,0.9989166666666667,0.9989166666666667,0.9989166666666667,0.9989166666666667,0.9989166666666667,0.9989166666666667,0.9989166666666667,0.9989166666666667,0.9989166666666667,0.9989166666666667,0.9995833333333334,0.9995833333333334,0.9995833333333334],\"type\":\"scatter\"}],                        {\"title\":{\"text\":\"Optimization History Plot\"},\"xaxis\":{\"title\":{\"text\":\"Trial\"}},\"yaxis\":{\"title\":{\"text\":\"Objective Value\"}},\"template\":{\"data\":{\"bar\":[{\"error_x\":{\"color\":\"#2a3f5f\"},\"error_y\":{\"color\":\"#2a3f5f\"},\"marker\":{\"line\":{\"color\":\"#E5ECF6\",\"width\":0.5},\"pattern\":{\"fillmode\":\"overlay\",\"size\":10,\"solidity\":0.2}},\"type\":\"bar\"}],\"barpolar\":[{\"marker\":{\"line\":{\"color\":\"#E5ECF6\",\"width\":0.5},\"pattern\":{\"fillmode\":\"overlay\",\"size\":10,\"solidity\":0.2}},\"type\":\"barpolar\"}],\"carpet\":[{\"aaxis\":{\"endlinecolor\":\"#2a3f5f\",\"gridcolor\":\"white\",\"linecolor\":\"white\",\"minorgridcolor\":\"white\",\"startlinecolor\":\"#2a3f5f\"},\"baxis\":{\"endlinecolor\":\"#2a3f5f\",\"gridcolor\":\"white\",\"linecolor\":\"white\",\"minorgridcolor\":\"white\",\"startlinecolor\":\"#2a3f5f\"},\"type\":\"carpet\"}],\"choropleth\":[{\"colorbar\":{\"outlinewidth\":0,\"ticks\":\"\"},\"type\":\"choropleth\"}],\"contour\":[{\"colorbar\":{\"outlinewidth\":0,\"ticks\":\"\"},\"colorscale\":[[0.0,\"#0d0887\"],[0.1111111111111111,\"#46039f\"],[0.2222222222222222,\"#7201a8\"],[0.3333333333333333,\"#9c179e\"],[0.4444444444444444,\"#bd3786\"],[0.5555555555555556,\"#d8576b\"],[0.6666666666666666,\"#ed7953\"],[0.7777777777777778,\"#fb9f3a\"],[0.8888888888888888,\"#fdca26\"],[1.0,\"#f0f921\"]],\"type\":\"contour\"}],\"contourcarpet\":[{\"colorbar\":{\"outlinewidth\":0,\"ticks\":\"\"},\"type\":\"contourcarpet\"}],\"heatmap\":[{\"colorbar\":{\"outlinewidth\":0,\"ticks\":\"\"},\"colorscale\":[[0.0,\"#0d0887\"],[0.1111111111111111,\"#46039f\"],[0.2222222222222222,\"#7201a8\"],[0.3333333333333333,\"#9c179e\"],[0.4444444444444444,\"#bd3786\"],[0.5555555555555556,\"#d8576b\"],[0.6666666666666666,\"#ed7953\"],[0.7777777777777778,\"#fb9f3a\"],[0.8888888888888888,\"#fdca26\"],[1.0,\"#f0f921\"]],\"type\":\"heatmap\"}],\"heatmapgl\":[{\"colorbar\":{\"outlinewidth\":0,\"ticks\":\"\"},\"colorscale\":[[0.0,\"#0d0887\"],[0.1111111111111111,\"#46039f\"],[0.2222222222222222,\"#7201a8\"],[0.3333333333333333,\"#9c179e\"],[0.4444444444444444,\"#bd3786\"],[0.5555555555555556,\"#d8576b\"],[0.6666666666666666,\"#ed7953\"],[0.7777777777777778,\"#fb9f3a\"],[0.8888888888888888,\"#fdca26\"],[1.0,\"#f0f921\"]],\"type\":\"heatmapgl\"}],\"histogram\":[{\"marker\":{\"pattern\":{\"fillmode\":\"overlay\",\"size\":10,\"solidity\":0.2}},\"type\":\"histogram\"}],\"histogram2d\":[{\"colorbar\":{\"outlinewidth\":0,\"ticks\":\"\"},\"colorscale\":[[0.0,\"#0d0887\"],[0.1111111111111111,\"#46039f\"],[0.2222222222222222,\"#7201a8\"],[0.3333333333333333,\"#9c179e\"],[0.4444444444444444,\"#bd3786\"],[0.5555555555555556,\"#d8576b\"],[0.6666666666666666,\"#ed7953\"],[0.7777777777777778,\"#fb9f3a\"],[0.8888888888888888,\"#fdca26\"],[1.0,\"#f0f921\"]],\"type\":\"histogram2d\"}],\"histogram2dcontour\":[{\"colorbar\":{\"outlinewidth\":0,\"ticks\":\"\"},\"colorscale\":[[0.0,\"#0d0887\"],[0.1111111111111111,\"#46039f\"],[0.2222222222222222,\"#7201a8\"],[0.3333333333333333,\"#9c179e\"],[0.4444444444444444,\"#bd3786\"],[0.5555555555555556,\"#d8576b\"],[0.6666666666666666,\"#ed7953\"],[0.7777777777777778,\"#fb9f3a\"],[0.8888888888888888,\"#fdca26\"],[1.0,\"#f0f921\"]],\"type\":\"histogram2dcontour\"}],\"mesh3d\":[{\"colorbar\":{\"outlinewidth\":0,\"ticks\":\"\"},\"type\":\"mesh3d\"}],\"parcoords\":[{\"line\":{\"colorbar\":{\"outlinewidth\":0,\"ticks\":\"\"}},\"type\":\"parcoords\"}],\"pie\":[{\"automargin\":true,\"type\":\"pie\"}],\"scatter\":[{\"marker\":{\"colorbar\":{\"outlinewidth\":0,\"ticks\":\"\"}},\"type\":\"scatter\"}],\"scatter3d\":[{\"line\":{\"colorbar\":{\"outlinewidth\":0,\"ticks\":\"\"}},\"marker\":{\"colorbar\":{\"outlinewidth\":0,\"ticks\":\"\"}},\"type\":\"scatter3d\"}],\"scattercarpet\":[{\"marker\":{\"colorbar\":{\"outlinewidth\":0,\"ticks\":\"\"}},\"type\":\"scattercarpet\"}],\"scattergeo\":[{\"marker\":{\"colorbar\":{\"outlinewidth\":0,\"ticks\":\"\"}},\"type\":\"scattergeo\"}],\"scattergl\":[{\"marker\":{\"colorbar\":{\"outlinewidth\":0,\"ticks\":\"\"}},\"type\":\"scattergl\"}],\"scattermapbox\":[{\"marker\":{\"colorbar\":{\"outlinewidth\":0,\"ticks\":\"\"}},\"type\":\"scattermapbox\"}],\"scatterpolar\":[{\"marker\":{\"colorbar\":{\"outlinewidth\":0,\"ticks\":\"\"}},\"type\":\"scatterpolar\"}],\"scatterpolargl\":[{\"marker\":{\"colorbar\":{\"outlinewidth\":0,\"ticks\":\"\"}},\"type\":\"scatterpolargl\"}],\"scatterternary\":[{\"marker\":{\"colorbar\":{\"outlinewidth\":0,\"ticks\":\"\"}},\"type\":\"scatterternary\"}],\"surface\":[{\"colorbar\":{\"outlinewidth\":0,\"ticks\":\"\"},\"colorscale\":[[0.0,\"#0d0887\"],[0.1111111111111111,\"#46039f\"],[0.2222222222222222,\"#7201a8\"],[0.3333333333333333,\"#9c179e\"],[0.4444444444444444,\"#bd3786\"],[0.5555555555555556,\"#d8576b\"],[0.6666666666666666,\"#ed7953\"],[0.7777777777777778,\"#fb9f3a\"],[0.8888888888888888,\"#fdca26\"],[1.0,\"#f0f921\"]],\"type\":\"surface\"}],\"table\":[{\"cells\":{\"fill\":{\"color\":\"#EBF0F8\"},\"line\":{\"color\":\"white\"}},\"header\":{\"fill\":{\"color\":\"#C8D4E3\"},\"line\":{\"color\":\"white\"}},\"type\":\"table\"}]},\"layout\":{\"annotationdefaults\":{\"arrowcolor\":\"#2a3f5f\",\"arrowhead\":0,\"arrowwidth\":1},\"autotypenumbers\":\"strict\",\"coloraxis\":{\"colorbar\":{\"outlinewidth\":0,\"ticks\":\"\"}},\"colorscale\":{\"diverging\":[[0,\"#8e0152\"],[0.1,\"#c51b7d\"],[0.2,\"#de77ae\"],[0.3,\"#f1b6da\"],[0.4,\"#fde0ef\"],[0.5,\"#f7f7f7\"],[0.6,\"#e6f5d0\"],[0.7,\"#b8e186\"],[0.8,\"#7fbc41\"],[0.9,\"#4d9221\"],[1,\"#276419\"]],\"sequential\":[[0.0,\"#0d0887\"],[0.1111111111111111,\"#46039f\"],[0.2222222222222222,\"#7201a8\"],[0.3333333333333333,\"#9c179e\"],[0.4444444444444444,\"#bd3786\"],[0.5555555555555556,\"#d8576b\"],[0.6666666666666666,\"#ed7953\"],[0.7777777777777778,\"#fb9f3a\"],[0.8888888888888888,\"#fdca26\"],[1.0,\"#f0f921\"]],\"sequentialminus\":[[0.0,\"#0d0887\"],[0.1111111111111111,\"#46039f\"],[0.2222222222222222,\"#7201a8\"],[0.3333333333333333,\"#9c179e\"],[0.4444444444444444,\"#bd3786\"],[0.5555555555555556,\"#d8576b\"],[0.6666666666666666,\"#ed7953\"],[0.7777777777777778,\"#fb9f3a\"],[0.8888888888888888,\"#fdca26\"],[1.0,\"#f0f921\"]]},\"colorway\":[\"#636efa\",\"#EF553B\",\"#00cc96\",\"#ab63fa\",\"#FFA15A\",\"#19d3f3\",\"#FF6692\",\"#B6E880\",\"#FF97FF\",\"#FECB52\"],\"font\":{\"color\":\"#2a3f5f\"},\"geo\":{\"bgcolor\":\"white\",\"lakecolor\":\"white\",\"landcolor\":\"#E5ECF6\",\"showlakes\":true,\"showland\":true,\"subunitcolor\":\"white\"},\"hoverlabel\":{\"align\":\"left\"},\"hovermode\":\"closest\",\"mapbox\":{\"style\":\"light\"},\"paper_bgcolor\":\"white\",\"plot_bgcolor\":\"#E5ECF6\",\"polar\":{\"angularaxis\":{\"gridcolor\":\"white\",\"linecolor\":\"white\",\"ticks\":\"\"},\"bgcolor\":\"#E5ECF6\",\"radialaxis\":{\"gridcolor\":\"white\",\"linecolor\":\"white\",\"ticks\":\"\"}},\"scene\":{\"xaxis\":{\"backgroundcolor\":\"#E5ECF6\",\"gridcolor\":\"white\",\"gridwidth\":2,\"linecolor\":\"white\",\"showbackground\":true,\"ticks\":\"\",\"zerolinecolor\":\"white\"},\"yaxis\":{\"backgroundcolor\":\"#E5ECF6\",\"gridcolor\":\"white\",\"gridwidth\":2,\"linecolor\":\"white\",\"showbackground\":true,\"ticks\":\"\",\"zerolinecolor\":\"white\"},\"zaxis\":{\"backgroundcolor\":\"#E5ECF6\",\"gridcolor\":\"white\",\"gridwidth\":2,\"linecolor\":\"white\",\"showbackground\":true,\"ticks\":\"\",\"zerolinecolor\":\"white\"}},\"shapedefaults\":{\"line\":{\"color\":\"#2a3f5f\"}},\"ternary\":{\"aaxis\":{\"gridcolor\":\"white\",\"linecolor\":\"white\",\"ticks\":\"\"},\"baxis\":{\"gridcolor\":\"white\",\"linecolor\":\"white\",\"ticks\":\"\"},\"bgcolor\":\"#E5ECF6\",\"caxis\":{\"gridcolor\":\"white\",\"linecolor\":\"white\",\"ticks\":\"\"}},\"title\":{\"x\":0.05},\"xaxis\":{\"automargin\":true,\"gridcolor\":\"white\",\"linecolor\":\"white\",\"ticks\":\"\",\"title\":{\"standoff\":15},\"zerolinecolor\":\"white\",\"zerolinewidth\":2},\"yaxis\":{\"automargin\":true,\"gridcolor\":\"white\",\"linecolor\":\"white\",\"ticks\":\"\",\"title\":{\"standoff\":15},\"zerolinecolor\":\"white\",\"zerolinewidth\":2}}}},                        {\"responsive\": true}                    ).then(function(){\n",
       "                            \n",
       "var gd = document.getElementById('b820c321-437b-4d3c-a484-efe7136f9127');\n",
       "var x = new MutationObserver(function (mutations, observer) {{\n",
       "        var display = window.getComputedStyle(gd).display;\n",
       "        if (!display || display === 'none') {{\n",
       "            console.log([gd, 'removed!']);\n",
       "            Plotly.purge(gd);\n",
       "            observer.disconnect();\n",
       "        }}\n",
       "}});\n",
       "\n",
       "// Listen for the removal of the full notebook cells\n",
       "var notebookContainer = gd.closest('#notebook-container');\n",
       "if (notebookContainer) {{\n",
       "    x.observe(notebookContainer, {childList: true});\n",
       "}}\n",
       "\n",
       "// Listen for the clearing of the current output cell\n",
       "var outputEl = gd.closest('.output');\n",
       "if (outputEl) {{\n",
       "    x.observe(outputEl, {childList: true});\n",
       "}}\n",
       "\n",
       "                        })                };                            </script>        </div>\n",
       "</body>\n",
       "</html>"
      ]
     },
     "metadata": {},
     "output_type": "display_data"
    }
   ],
   "source": [
    "optuna.visualization.plot_optimization_history(study)"
   ]
  },
  {
   "cell_type": "code",
   "execution_count": 12,
   "metadata": {
    "colab": {
     "base_uri": "https://localhost:8080/",
     "height": 562
    },
    "id": "ZAZd5t7rx1AU",
    "outputId": "bce0273b-cdb8-41d4-d573-2045801c8168"
   },
   "outputs": [
    {
     "data": {
      "text/html": [
       "<html>\n",
       "<head><meta charset=\"utf-8\" /></head>\n",
       "<body>\n",
       "    <div>            <script src=\"https://cdnjs.cloudflare.com/ajax/libs/mathjax/2.7.5/MathJax.js?config=TeX-AMS-MML_SVG\"></script><script type=\"text/javascript\">if (window.MathJax) {MathJax.Hub.Config({SVG: {font: \"STIX-Web\"}});}</script>                <script type=\"text/javascript\">window.PlotlyConfig = {MathJaxConfig: 'local'};</script>\n",
       "        <script src=\"https://cdn.plot.ly/plotly-2.8.3.min.js\"></script>                <div id=\"44dbbb77-e23d-4582-a33e-138e63150186\" class=\"plotly-graph-div\" style=\"height:525px; width:1500px;\"></div>            <script type=\"text/javascript\">                                    window.PLOTLYENV=window.PLOTLYENV || {};                                    if (document.getElementById(\"44dbbb77-e23d-4582-a33e-138e63150186\")) {                    Plotly.newPlot(                        \"44dbbb77-e23d-4582-a33e-138e63150186\",                        [{\"marker\":{\"color\":[0,1,2,3,4,5,6,7,8,9,10,11,12,13,14,15,16,17,18,19,20,21,22,23,24,25,26,27,28,29,30,31,32,33,34,35,36,37,38,39,40,41,42,43,44,45,46,47,48,49],\"colorbar\":{\"title\":{\"text\":\"Trial\"},\"x\":1.0,\"xpad\":40},\"colorscale\":[[0.0,\"rgb(247,251,255)\"],[0.125,\"rgb(222,235,247)\"],[0.25,\"rgb(198,219,239)\"],[0.375,\"rgb(158,202,225)\"],[0.5,\"rgb(107,174,214)\"],[0.625,\"rgb(66,146,198)\"],[0.75,\"rgb(33,113,181)\"],[0.875,\"rgb(8,81,156)\"],[1.0,\"rgb(8,48,107)\"]],\"line\":{\"color\":\"Grey\",\"width\":0.5},\"showscale\":true},\"mode\":\"markers\",\"showlegend\":false,\"x\":[-3.0929327693048387,2.812625685806032,0.9356122032145082,0.28262418459799044,3.055066608303373,0.7319684056463087,1.9966702074332146,0.5913466466991153,-2.783816210915888,-2.5843722350849303,-1.034132354677894,-1.1090403944836873,-0.9017328924804486,-1.1081717002704503,-1.2960302777742425,-0.7018411023032496,-3.8558769070716377,-1.815643105469916,-0.5523299949007481,-0.2612085554914574,-1.8791769110364749,-1.5599617889095336,-0.15248406157092143,-0.848767299066308,-0.6116070043605458,0.05452979571339489,-2.042024909698508,1.1336182677358981,-0.8486029920651237,-1.3595088698022308,-2.3813873280456734,-1.3158868617870039,-0.9635217612535165,-0.34346469951849,-0.2667051917529736,0.27321694052840884,-0.4644394030755265,0.19650574907948742,1.4189283300724158,-0.4085362584662232,0.6096477905436137,-0.7718199903984262,-0.004381161386478871,-0.8811294143445777,-0.5185771092041854,0.41818436467809167,-1.4719454015322597,-0.01972321239857544,-0.0683832338715496,0.7095721809647935],\"y\":[0.9253333333333333,0.9945833333333334,0.8953333333333333,0.9773333333333334,0.69825,0.99875,0.9143333333333333,0.9948333333333333,0.9869166666666667,0.9473333333333334,0.9988333333333334,0.99875,0.9989166666666667,0.9988333333333334,0.99225,0.9983333333333333,0.9925,0.9986666666666667,0.9970833333333333,0.99875,0.638,0.9985833333333334,0.99875,0.9989166666666667,0.9975833333333334,0.9988333333333334,0.99875,0.9904166666666666,0.99675,0.638,0.99175,0.9988333333333334,0.9980833333333333,0.9989166666666667,0.9899166666666667,0.7188333333333333,0.9989166666666667,0.7769166666666667,0.9913333333333333,0.99825,0.9848333333333333,0.9989166666666667,0.9988333333333334,0.9988333333333334,0.99825,0.8388333333333333,0.9984166666666666,0.9995833333333334,0.9995833333333334,0.99875],\"type\":\"scatter\",\"xaxis\":\"x\",\"yaxis\":\"y\"},{\"marker\":{\"color\":[0,1,2,3,4,5,6,7,8,9,10,11,12,13,14,15,16,17,18,19,20,21,22,23,24,25,26,27,28,29,30,31,32,33,34,35,36,37,38,39,40,41,42,43,44,45,46,47,48,49],\"colorbar\":{\"title\":{\"text\":\"Trial\"},\"x\":1.0,\"xpad\":40},\"colorscale\":[[0.0,\"rgb(247,251,255)\"],[0.125,\"rgb(222,235,247)\"],[0.25,\"rgb(198,219,239)\"],[0.375,\"rgb(158,202,225)\"],[0.5,\"rgb(107,174,214)\"],[0.625,\"rgb(66,146,198)\"],[0.75,\"rgb(33,113,181)\"],[0.875,\"rgb(8,81,156)\"],[1.0,\"rgb(8,48,107)\"]],\"line\":{\"color\":\"Grey\",\"width\":0.5},\"showscale\":false},\"mode\":\"markers\",\"showlegend\":false,\"x\":[1,3,3,2,3,4,2,4,3,3,4,4,4,4,4,1,4,2,4,3,4,4,4,4,3,4,3,4,2,1,4,4,4,4,3,4,3,3,3,2,3,4,4,4,4,3,4,4,3,4],\"y\":[0.9253333333333333,0.9945833333333334,0.8953333333333333,0.9773333333333334,0.69825,0.99875,0.9143333333333333,0.9948333333333333,0.9869166666666667,0.9473333333333334,0.9988333333333334,0.99875,0.9989166666666667,0.9988333333333334,0.99225,0.9983333333333333,0.9925,0.9986666666666667,0.9970833333333333,0.99875,0.638,0.9985833333333334,0.99875,0.9989166666666667,0.9975833333333334,0.9988333333333334,0.99875,0.9904166666666666,0.99675,0.638,0.99175,0.9988333333333334,0.9980833333333333,0.9989166666666667,0.9899166666666667,0.7188333333333333,0.9989166666666667,0.7769166666666667,0.9913333333333333,0.99825,0.9848333333333333,0.9989166666666667,0.9988333333333334,0.9988333333333334,0.99825,0.8388333333333333,0.9984166666666666,0.9995833333333334,0.9995833333333334,0.99875],\"type\":\"scatter\",\"xaxis\":\"x2\",\"yaxis\":\"y2\"},{\"marker\":{\"color\":[0,1,2,3,4,5,6,7,8,9,10,11,12,13,14,15,16,17,18,19,20,21,22,23,24,25,26,27,28,29,30,31,32,33,34,35,36,37,38,39,40,41,42,43,44,45,46,47,48,49],\"colorbar\":{\"title\":{\"text\":\"Trial\"},\"x\":1.0,\"xpad\":40},\"colorscale\":[[0.0,\"rgb(247,251,255)\"],[0.125,\"rgb(222,235,247)\"],[0.25,\"rgb(198,219,239)\"],[0.375,\"rgb(158,202,225)\"],[0.5,\"rgb(107,174,214)\"],[0.625,\"rgb(66,146,198)\"],[0.75,\"rgb(33,113,181)\"],[0.875,\"rgb(8,81,156)\"],[1.0,\"rgb(8,48,107)\"]],\"line\":{\"color\":\"Grey\",\"width\":0.5},\"showscale\":false},\"mode\":\"markers\",\"showlegend\":false,\"x\":[4,5,2,5,5,3,2,5,5,2,3,3,3,3,4,3,4,3,4,2,3,3,3,3,4,2,3,4,3,2,3,3,3,3,4,2,3,3,4,2,3,3,3,3,3,3,3,2,2,2],\"y\":[0.9253333333333333,0.9945833333333334,0.8953333333333333,0.9773333333333334,0.69825,0.99875,0.9143333333333333,0.9948333333333333,0.9869166666666667,0.9473333333333334,0.9988333333333334,0.99875,0.9989166666666667,0.9988333333333334,0.99225,0.9983333333333333,0.9925,0.9986666666666667,0.9970833333333333,0.99875,0.638,0.9985833333333334,0.99875,0.9989166666666667,0.9975833333333334,0.9988333333333334,0.99875,0.9904166666666666,0.99675,0.638,0.99175,0.9988333333333334,0.9980833333333333,0.9989166666666667,0.9899166666666667,0.7188333333333333,0.9989166666666667,0.7769166666666667,0.9913333333333333,0.99825,0.9848333333333333,0.9989166666666667,0.9988333333333334,0.9988333333333334,0.99825,0.8388333333333333,0.9984166666666666,0.9995833333333334,0.9995833333333334,0.99875],\"type\":\"scatter\",\"xaxis\":\"x3\",\"yaxis\":\"y3\"},{\"marker\":{\"color\":[0,1,2,3,4,5,6,7,8,9,10,11,12,13,14,15,16,17,18,19,20,21,22,23,24,25,26,27,28,29,30,31,32,33,34,35,36,37,38,39,40,41,42,43,44,45,46,47,48,49],\"colorbar\":{\"title\":{\"text\":\"Trial\"},\"x\":1.0,\"xpad\":40},\"colorscale\":[[0.0,\"rgb(247,251,255)\"],[0.125,\"rgb(222,235,247)\"],[0.25,\"rgb(198,219,239)\"],[0.375,\"rgb(158,202,225)\"],[0.5,\"rgb(107,174,214)\"],[0.625,\"rgb(66,146,198)\"],[0.75,\"rgb(33,113,181)\"],[0.875,\"rgb(8,81,156)\"],[1.0,\"rgb(8,48,107)\"]],\"line\":{\"color\":\"Grey\",\"width\":0.5},\"showscale\":false},\"mode\":\"markers\",\"showlegend\":false,\"x\":[-1.1271318914313566,-2.8553370577754875,-3.591175006407742,-2.491847778547097,-0.5216915263852071,-1.4223099233543777,-1.8984366159921633,-2.7224109632767703,-1.1620274959445984,-1.8426120634707077,0.9062856168697677,0.9521240713336097,0.8572068180406844,0.9194611175894518,0.23380905804811525,0.1815265084279798,0.038114180322983415,0.9939328492495487,-0.6514534417628914,0.4115253124814247,-0.2585987589052172,0.5563330108471689,0.7292763005426426,0.6848054314750911,0.47599037665593613,-0.0909321551302269,0.5033422377161091,0.639518219038829,-0.2646710246576347,0.13184971821347968,0.9923804027901415,0.7212868117934927,0.2975454596454691,0.7903566621085751,0.6435165165939077,-0.6986330447673283,0.3303853034764809,-0.10151732858106377,0.31310919671863047,0.4317649682830656,-0.4849945990637079,0.8079167582089344,0.6005834166461851,0.7577009892343239,0.14201569194354902,0.8000458498243047,0.37831291842891196,0.8732848623501065,0.9749801852654971,0.9434120013594612],\"y\":[0.9253333333333333,0.9945833333333334,0.8953333333333333,0.9773333333333334,0.69825,0.99875,0.9143333333333333,0.9948333333333333,0.9869166666666667,0.9473333333333334,0.9988333333333334,0.99875,0.9989166666666667,0.9988333333333334,0.99225,0.9983333333333333,0.9925,0.9986666666666667,0.9970833333333333,0.99875,0.638,0.9985833333333334,0.99875,0.9989166666666667,0.9975833333333334,0.9988333333333334,0.99875,0.9904166666666666,0.99675,0.638,0.99175,0.9988333333333334,0.9980833333333333,0.9989166666666667,0.9899166666666667,0.7188333333333333,0.9989166666666667,0.7769166666666667,0.9913333333333333,0.99825,0.9848333333333333,0.9989166666666667,0.9988333333333334,0.9988333333333334,0.99825,0.8388333333333333,0.9984166666666666,0.9995833333333334,0.9995833333333334,0.99875],\"type\":\"scatter\",\"xaxis\":\"x4\",\"yaxis\":\"y4\"},{\"marker\":{\"color\":[0,1,2,3,4,5,6,7,8,9,10,11,12,13,14,15,16,17,18,19,20,21,22,23,24,25,26,27,28,29,30,31,32,33,34,35,36,37,38,39,40,41,42,43,44,45,46,47,48,49],\"colorbar\":{\"title\":{\"text\":\"Trial\"},\"x\":1.0,\"xpad\":40},\"colorscale\":[[0.0,\"rgb(247,251,255)\"],[0.125,\"rgb(222,235,247)\"],[0.25,\"rgb(198,219,239)\"],[0.375,\"rgb(158,202,225)\"],[0.5,\"rgb(107,174,214)\"],[0.625,\"rgb(66,146,198)\"],[0.75,\"rgb(33,113,181)\"],[0.875,\"rgb(8,81,156)\"],[1.0,\"rgb(8,48,107)\"]],\"line\":{\"color\":\"Grey\",\"width\":0.5},\"showscale\":false},\"mode\":\"markers\",\"showlegend\":false,\"x\":[\"sigmoid\",\"sigmoid\",\"sigmoid\",\"sigmoid\",\"sigmoid\",\"linear\",\"sigmoid\",\"rbf\",\"linear\",\"rbf\",\"poly\",\"poly\",\"poly\",\"poly\",\"poly\",\"poly\",\"poly\",\"poly\",\"poly\",\"poly\",\"rbf\",\"poly\",\"poly\",\"poly\",\"linear\",\"poly\",\"poly\",\"poly\",\"poly\",\"rbf\",\"linear\",\"poly\",\"poly\",\"poly\",\"poly\",\"sigmoid\",\"poly\",\"sigmoid\",\"poly\",\"linear\",\"rbf\",\"poly\",\"poly\",\"poly\",\"poly\",\"sigmoid\",\"poly\",\"poly\",\"poly\",\"linear\"],\"y\":[0.9253333333333333,0.9945833333333334,0.8953333333333333,0.9773333333333334,0.69825,0.99875,0.9143333333333333,0.9948333333333333,0.9869166666666667,0.9473333333333334,0.9988333333333334,0.99875,0.9989166666666667,0.9988333333333334,0.99225,0.9983333333333333,0.9925,0.9986666666666667,0.9970833333333333,0.99875,0.638,0.9985833333333334,0.99875,0.9989166666666667,0.9975833333333334,0.9988333333333334,0.99875,0.9904166666666666,0.99675,0.638,0.99175,0.9988333333333334,0.9980833333333333,0.9989166666666667,0.9899166666666667,0.7188333333333333,0.9989166666666667,0.7769166666666667,0.9913333333333333,0.99825,0.9848333333333333,0.9989166666666667,0.9988333333333334,0.9988333333333334,0.99825,0.8388333333333333,0.9984166666666666,0.9995833333333334,0.9995833333333334,0.99875],\"type\":\"scatter\",\"xaxis\":\"x5\",\"yaxis\":\"y5\"}],                        {\"template\":{\"data\":{\"bar\":[{\"error_x\":{\"color\":\"#2a3f5f\"},\"error_y\":{\"color\":\"#2a3f5f\"},\"marker\":{\"line\":{\"color\":\"#E5ECF6\",\"width\":0.5},\"pattern\":{\"fillmode\":\"overlay\",\"size\":10,\"solidity\":0.2}},\"type\":\"bar\"}],\"barpolar\":[{\"marker\":{\"line\":{\"color\":\"#E5ECF6\",\"width\":0.5},\"pattern\":{\"fillmode\":\"overlay\",\"size\":10,\"solidity\":0.2}},\"type\":\"barpolar\"}],\"carpet\":[{\"aaxis\":{\"endlinecolor\":\"#2a3f5f\",\"gridcolor\":\"white\",\"linecolor\":\"white\",\"minorgridcolor\":\"white\",\"startlinecolor\":\"#2a3f5f\"},\"baxis\":{\"endlinecolor\":\"#2a3f5f\",\"gridcolor\":\"white\",\"linecolor\":\"white\",\"minorgridcolor\":\"white\",\"startlinecolor\":\"#2a3f5f\"},\"type\":\"carpet\"}],\"choropleth\":[{\"colorbar\":{\"outlinewidth\":0,\"ticks\":\"\"},\"type\":\"choropleth\"}],\"contour\":[{\"colorbar\":{\"outlinewidth\":0,\"ticks\":\"\"},\"colorscale\":[[0.0,\"#0d0887\"],[0.1111111111111111,\"#46039f\"],[0.2222222222222222,\"#7201a8\"],[0.3333333333333333,\"#9c179e\"],[0.4444444444444444,\"#bd3786\"],[0.5555555555555556,\"#d8576b\"],[0.6666666666666666,\"#ed7953\"],[0.7777777777777778,\"#fb9f3a\"],[0.8888888888888888,\"#fdca26\"],[1.0,\"#f0f921\"]],\"type\":\"contour\"}],\"contourcarpet\":[{\"colorbar\":{\"outlinewidth\":0,\"ticks\":\"\"},\"type\":\"contourcarpet\"}],\"heatmap\":[{\"colorbar\":{\"outlinewidth\":0,\"ticks\":\"\"},\"colorscale\":[[0.0,\"#0d0887\"],[0.1111111111111111,\"#46039f\"],[0.2222222222222222,\"#7201a8\"],[0.3333333333333333,\"#9c179e\"],[0.4444444444444444,\"#bd3786\"],[0.5555555555555556,\"#d8576b\"],[0.6666666666666666,\"#ed7953\"],[0.7777777777777778,\"#fb9f3a\"],[0.8888888888888888,\"#fdca26\"],[1.0,\"#f0f921\"]],\"type\":\"heatmap\"}],\"heatmapgl\":[{\"colorbar\":{\"outlinewidth\":0,\"ticks\":\"\"},\"colorscale\":[[0.0,\"#0d0887\"],[0.1111111111111111,\"#46039f\"],[0.2222222222222222,\"#7201a8\"],[0.3333333333333333,\"#9c179e\"],[0.4444444444444444,\"#bd3786\"],[0.5555555555555556,\"#d8576b\"],[0.6666666666666666,\"#ed7953\"],[0.7777777777777778,\"#fb9f3a\"],[0.8888888888888888,\"#fdca26\"],[1.0,\"#f0f921\"]],\"type\":\"heatmapgl\"}],\"histogram\":[{\"marker\":{\"pattern\":{\"fillmode\":\"overlay\",\"size\":10,\"solidity\":0.2}},\"type\":\"histogram\"}],\"histogram2d\":[{\"colorbar\":{\"outlinewidth\":0,\"ticks\":\"\"},\"colorscale\":[[0.0,\"#0d0887\"],[0.1111111111111111,\"#46039f\"],[0.2222222222222222,\"#7201a8\"],[0.3333333333333333,\"#9c179e\"],[0.4444444444444444,\"#bd3786\"],[0.5555555555555556,\"#d8576b\"],[0.6666666666666666,\"#ed7953\"],[0.7777777777777778,\"#fb9f3a\"],[0.8888888888888888,\"#fdca26\"],[1.0,\"#f0f921\"]],\"type\":\"histogram2d\"}],\"histogram2dcontour\":[{\"colorbar\":{\"outlinewidth\":0,\"ticks\":\"\"},\"colorscale\":[[0.0,\"#0d0887\"],[0.1111111111111111,\"#46039f\"],[0.2222222222222222,\"#7201a8\"],[0.3333333333333333,\"#9c179e\"],[0.4444444444444444,\"#bd3786\"],[0.5555555555555556,\"#d8576b\"],[0.6666666666666666,\"#ed7953\"],[0.7777777777777778,\"#fb9f3a\"],[0.8888888888888888,\"#fdca26\"],[1.0,\"#f0f921\"]],\"type\":\"histogram2dcontour\"}],\"mesh3d\":[{\"colorbar\":{\"outlinewidth\":0,\"ticks\":\"\"},\"type\":\"mesh3d\"}],\"parcoords\":[{\"line\":{\"colorbar\":{\"outlinewidth\":0,\"ticks\":\"\"}},\"type\":\"parcoords\"}],\"pie\":[{\"automargin\":true,\"type\":\"pie\"}],\"scatter\":[{\"marker\":{\"colorbar\":{\"outlinewidth\":0,\"ticks\":\"\"}},\"type\":\"scatter\"}],\"scatter3d\":[{\"line\":{\"colorbar\":{\"outlinewidth\":0,\"ticks\":\"\"}},\"marker\":{\"colorbar\":{\"outlinewidth\":0,\"ticks\":\"\"}},\"type\":\"scatter3d\"}],\"scattercarpet\":[{\"marker\":{\"colorbar\":{\"outlinewidth\":0,\"ticks\":\"\"}},\"type\":\"scattercarpet\"}],\"scattergeo\":[{\"marker\":{\"colorbar\":{\"outlinewidth\":0,\"ticks\":\"\"}},\"type\":\"scattergeo\"}],\"scattergl\":[{\"marker\":{\"colorbar\":{\"outlinewidth\":0,\"ticks\":\"\"}},\"type\":\"scattergl\"}],\"scattermapbox\":[{\"marker\":{\"colorbar\":{\"outlinewidth\":0,\"ticks\":\"\"}},\"type\":\"scattermapbox\"}],\"scatterpolar\":[{\"marker\":{\"colorbar\":{\"outlinewidth\":0,\"ticks\":\"\"}},\"type\":\"scatterpolar\"}],\"scatterpolargl\":[{\"marker\":{\"colorbar\":{\"outlinewidth\":0,\"ticks\":\"\"}},\"type\":\"scatterpolargl\"}],\"scatterternary\":[{\"marker\":{\"colorbar\":{\"outlinewidth\":0,\"ticks\":\"\"}},\"type\":\"scatterternary\"}],\"surface\":[{\"colorbar\":{\"outlinewidth\":0,\"ticks\":\"\"},\"colorscale\":[[0.0,\"#0d0887\"],[0.1111111111111111,\"#46039f\"],[0.2222222222222222,\"#7201a8\"],[0.3333333333333333,\"#9c179e\"],[0.4444444444444444,\"#bd3786\"],[0.5555555555555556,\"#d8576b\"],[0.6666666666666666,\"#ed7953\"],[0.7777777777777778,\"#fb9f3a\"],[0.8888888888888888,\"#fdca26\"],[1.0,\"#f0f921\"]],\"type\":\"surface\"}],\"table\":[{\"cells\":{\"fill\":{\"color\":\"#EBF0F8\"},\"line\":{\"color\":\"white\"}},\"header\":{\"fill\":{\"color\":\"#C8D4E3\"},\"line\":{\"color\":\"white\"}},\"type\":\"table\"}]},\"layout\":{\"annotationdefaults\":{\"arrowcolor\":\"#2a3f5f\",\"arrowhead\":0,\"arrowwidth\":1},\"autotypenumbers\":\"strict\",\"coloraxis\":{\"colorbar\":{\"outlinewidth\":0,\"ticks\":\"\"}},\"colorscale\":{\"diverging\":[[0,\"#8e0152\"],[0.1,\"#c51b7d\"],[0.2,\"#de77ae\"],[0.3,\"#f1b6da\"],[0.4,\"#fde0ef\"],[0.5,\"#f7f7f7\"],[0.6,\"#e6f5d0\"],[0.7,\"#b8e186\"],[0.8,\"#7fbc41\"],[0.9,\"#4d9221\"],[1,\"#276419\"]],\"sequential\":[[0.0,\"#0d0887\"],[0.1111111111111111,\"#46039f\"],[0.2222222222222222,\"#7201a8\"],[0.3333333333333333,\"#9c179e\"],[0.4444444444444444,\"#bd3786\"],[0.5555555555555556,\"#d8576b\"],[0.6666666666666666,\"#ed7953\"],[0.7777777777777778,\"#fb9f3a\"],[0.8888888888888888,\"#fdca26\"],[1.0,\"#f0f921\"]],\"sequentialminus\":[[0.0,\"#0d0887\"],[0.1111111111111111,\"#46039f\"],[0.2222222222222222,\"#7201a8\"],[0.3333333333333333,\"#9c179e\"],[0.4444444444444444,\"#bd3786\"],[0.5555555555555556,\"#d8576b\"],[0.6666666666666666,\"#ed7953\"],[0.7777777777777778,\"#fb9f3a\"],[0.8888888888888888,\"#fdca26\"],[1.0,\"#f0f921\"]]},\"colorway\":[\"#636efa\",\"#EF553B\",\"#00cc96\",\"#ab63fa\",\"#FFA15A\",\"#19d3f3\",\"#FF6692\",\"#B6E880\",\"#FF97FF\",\"#FECB52\"],\"font\":{\"color\":\"#2a3f5f\"},\"geo\":{\"bgcolor\":\"white\",\"lakecolor\":\"white\",\"landcolor\":\"#E5ECF6\",\"showlakes\":true,\"showland\":true,\"subunitcolor\":\"white\"},\"hoverlabel\":{\"align\":\"left\"},\"hovermode\":\"closest\",\"mapbox\":{\"style\":\"light\"},\"paper_bgcolor\":\"white\",\"plot_bgcolor\":\"#E5ECF6\",\"polar\":{\"angularaxis\":{\"gridcolor\":\"white\",\"linecolor\":\"white\",\"ticks\":\"\"},\"bgcolor\":\"#E5ECF6\",\"radialaxis\":{\"gridcolor\":\"white\",\"linecolor\":\"white\",\"ticks\":\"\"}},\"scene\":{\"xaxis\":{\"backgroundcolor\":\"#E5ECF6\",\"gridcolor\":\"white\",\"gridwidth\":2,\"linecolor\":\"white\",\"showbackground\":true,\"ticks\":\"\",\"zerolinecolor\":\"white\"},\"yaxis\":{\"backgroundcolor\":\"#E5ECF6\",\"gridcolor\":\"white\",\"gridwidth\":2,\"linecolor\":\"white\",\"showbackground\":true,\"ticks\":\"\",\"zerolinecolor\":\"white\"},\"zaxis\":{\"backgroundcolor\":\"#E5ECF6\",\"gridcolor\":\"white\",\"gridwidth\":2,\"linecolor\":\"white\",\"showbackground\":true,\"ticks\":\"\",\"zerolinecolor\":\"white\"}},\"shapedefaults\":{\"line\":{\"color\":\"#2a3f5f\"}},\"ternary\":{\"aaxis\":{\"gridcolor\":\"white\",\"linecolor\":\"white\",\"ticks\":\"\"},\"baxis\":{\"gridcolor\":\"white\",\"linecolor\":\"white\",\"ticks\":\"\"},\"bgcolor\":\"#E5ECF6\",\"caxis\":{\"gridcolor\":\"white\",\"linecolor\":\"white\",\"ticks\":\"\"}},\"title\":{\"x\":0.05},\"xaxis\":{\"automargin\":true,\"gridcolor\":\"white\",\"linecolor\":\"white\",\"ticks\":\"\",\"title\":{\"standoff\":15},\"zerolinecolor\":\"white\",\"zerolinewidth\":2},\"yaxis\":{\"automargin\":true,\"gridcolor\":\"white\",\"linecolor\":\"white\",\"ticks\":\"\",\"title\":{\"standoff\":15},\"zerolinecolor\":\"white\",\"zerolinewidth\":2}}},\"xaxis\":{\"anchor\":\"y\",\"domain\":[0.0,0.16799999999999998],\"title\":{\"text\":\"C\"}},\"yaxis\":{\"anchor\":\"x\",\"domain\":[0.0,1.0],\"title\":{\"text\":\"Objective Value\"}},\"xaxis2\":{\"anchor\":\"y2\",\"domain\":[0.208,0.376],\"title\":{\"text\":\"coef0\"}},\"yaxis2\":{\"anchor\":\"x2\",\"domain\":[0.0,1.0],\"matches\":\"y\",\"showticklabels\":false},\"xaxis3\":{\"anchor\":\"y3\",\"domain\":[0.416,0.584],\"title\":{\"text\":\"degree\"}},\"yaxis3\":{\"anchor\":\"x3\",\"domain\":[0.0,1.0],\"matches\":\"y\",\"showticklabels\":false},\"xaxis4\":{\"anchor\":\"y4\",\"domain\":[0.624,0.792],\"title\":{\"text\":\"gamma\"}},\"yaxis4\":{\"anchor\":\"x4\",\"domain\":[0.0,1.0],\"matches\":\"y\",\"showticklabels\":false},\"xaxis5\":{\"anchor\":\"y5\",\"domain\":[0.832,1.0],\"title\":{\"text\":\"kernel\"}},\"yaxis5\":{\"anchor\":\"x5\",\"domain\":[0.0,1.0],\"matches\":\"y\",\"showticklabels\":false},\"title\":{\"text\":\"Slice Plot\"},\"width\":1500},                        {\"responsive\": true}                    ).then(function(){\n",
       "                            \n",
       "var gd = document.getElementById('44dbbb77-e23d-4582-a33e-138e63150186');\n",
       "var x = new MutationObserver(function (mutations, observer) {{\n",
       "        var display = window.getComputedStyle(gd).display;\n",
       "        if (!display || display === 'none') {{\n",
       "            console.log([gd, 'removed!']);\n",
       "            Plotly.purge(gd);\n",
       "            observer.disconnect();\n",
       "        }}\n",
       "}});\n",
       "\n",
       "// Listen for the removal of the full notebook cells\n",
       "var notebookContainer = gd.closest('#notebook-container');\n",
       "if (notebookContainer) {{\n",
       "    x.observe(notebookContainer, {childList: true});\n",
       "}}\n",
       "\n",
       "// Listen for the clearing of the current output cell\n",
       "var outputEl = gd.closest('.output');\n",
       "if (outputEl) {{\n",
       "    x.observe(outputEl, {childList: true});\n",
       "}}\n",
       "\n",
       "                        })                };                            </script>        </div>\n",
       "</body>\n",
       "</html>"
      ]
     },
     "metadata": {},
     "output_type": "display_data"
    }
   ],
   "source": [
    "optuna.visualization.plot_slice(study)"
   ]
  },
  {
   "cell_type": "code",
   "execution_count": null,
   "metadata": {
    "id": "3WtlyzDAx_bJ"
   },
   "outputs": [],
   "source": []
  }
 ],
 "metadata": {
  "colab": {
   "provenance": []
  },
  "kernelspec": {
   "display_name": "Python 3 (ipykernel)",
   "language": "python",
   "name": "python3"
  },
  "language_info": {
   "codemirror_mode": {
    "name": "ipython",
    "version": 3
   },
   "file_extension": ".py",
   "mimetype": "text/x-python",
   "name": "python",
   "nbconvert_exporter": "python",
   "pygments_lexer": "ipython3",
   "version": "3.9.13"
  }
 },
 "nbformat": 4,
 "nbformat_minor": 1
}
